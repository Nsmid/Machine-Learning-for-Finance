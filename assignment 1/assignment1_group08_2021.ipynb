{
 "cells": [
  {
   "cell_type": "markdown",
   "metadata": {},
   "source": [
    "# Assignment 1 -- ML4F 2021\n",
    "\n",
    "## Instructions\n",
    "* This assignment covers the material discussed in Lectures ML1 and ML2. \n",
    "* Each group submits _only one_ notebook via canvas on the assignment page. \n",
    "* The notebook should be named `assignment1_groupXX.ipynb` where `XX` is your group number,  \n",
    "e.g. for group 3 this will be `assignment1_group03.ipynb`.\n",
    "* The notebook should run without raising any errors. \n",
    "* We recommend keeping the folder structure\n",
    "```\n",
    "assignment/\n",
    "    data/\n",
    "    lib/\n",
    "    assignment1_groupXX.ipynb\n",
    "```\n",
    "* We strongly recommend git, as you are encouraged to collaborate and split up the work and maybe even start independently. To see how to set up your own repo for your group, see `L2-git-slides.pdf`.\n",
    "* Do not spend time on optimizing the speed of your code. However, if it runs for more than 5 minutes, we will terminate it.\n",
    "* We strongly encourage you to experiment, try different approaches and combinations and get to know the problem from alternative angles. But the final notebook should only contain the necessary results for grading."
   ]
  },
  {
   "cell_type": "code",
   "execution_count": 1,
   "metadata": {},
   "outputs": [],
   "source": [
    "import pandas as pd\n",
    "import numpy as np\n",
    "import matplotlib.pyplot as plt\n",
    "import os\n",
    "from scipy.stats.mstats import winsorize\n",
    "from scipy.stats import mstats\n",
    "from sklearn.model_selection import train_test_split\n",
    "from sklearn.linear_model import LogisticRegression\n",
    "from sklearn import metrics\n",
    "import seaborn as sns\n",
    "from sklearn.metrics import classification_report\n",
    "from sklearn.metrics import roc_auc_score\n",
    "from sklearn.metrics import roc_curve"
   ]
  },
  {
   "cell_type": "markdown",
   "metadata": {},
   "source": [
    "## Introduction"
   ]
  },
  {
   "cell_type": "markdown",
   "metadata": {},
   "source": [
    "According to Wikipedia, the definition of a stock is: \n",
    "“Stock (also capital stock) is all of the shares into which ownership of a corporation is divided. In American English, the shares are collectively known as \"stock\". A single share of the stock represents fractional ownership of the corporation in proportion to the total number of shares.”\n",
    "Some people trade with these stocks. But when is it worth to buy such one? What influence the prices of those stocks? In this assignment you will predict whether a stock is worth to buy or not. \n",
    "There are a lot of variables to choose from. The goal is to predict the column ‘class’. This is an indicator whether to buy the stock in the next period or not. \n",
    "\n",
    "\n"
   ]
  },
  {
   "cell_type": "markdown",
   "metadata": {},
   "source": [
    "Let's load and have a look at the data."
   ]
  },
  {
   "cell_type": "code",
   "execution_count": 2,
   "metadata": {},
   "outputs": [
    {
     "data": {
      "text/html": [
       "<div>\n",
       "<style scoped>\n",
       "    .dataframe tbody tr th:only-of-type {\n",
       "        vertical-align: middle;\n",
       "    }\n",
       "\n",
       "    .dataframe tbody tr th {\n",
       "        vertical-align: top;\n",
       "    }\n",
       "\n",
       "    .dataframe thead th {\n",
       "        text-align: right;\n",
       "    }\n",
       "</style>\n",
       "<table border=\"1\" class=\"dataframe\">\n",
       "  <thead>\n",
       "    <tr style=\"text-align: right;\">\n",
       "      <th></th>\n",
       "      <th>Unnamed: 0</th>\n",
       "      <th>Revenue</th>\n",
       "      <th>Revenue Growth</th>\n",
       "      <th>Cost of Revenue</th>\n",
       "      <th>Gross Profit</th>\n",
       "      <th>R&amp;D Expenses</th>\n",
       "      <th>SG&amp;A Expense</th>\n",
       "      <th>Operating Expenses</th>\n",
       "      <th>Operating Income</th>\n",
       "      <th>Interest Expense</th>\n",
       "      <th>Earnings before Tax</th>\n",
       "      <th>Income Tax Expense</th>\n",
       "      <th>Class</th>\n",
       "    </tr>\n",
       "  </thead>\n",
       "  <tbody>\n",
       "    <tr>\n",
       "      <th>0</th>\n",
       "      <td>PG</td>\n",
       "      <td>7.440100e+10</td>\n",
       "      <td>-0.0713</td>\n",
       "      <td>3.903000e+10</td>\n",
       "      <td>3.537100e+10</td>\n",
       "      <td>0.000000e+00</td>\n",
       "      <td>2.146100e+10</td>\n",
       "      <td>2.146100e+10</td>\n",
       "      <td>1.391000e+10</td>\n",
       "      <td>7.090000e+08</td>\n",
       "      <td>1.449400e+10</td>\n",
       "      <td>2.851000e+09</td>\n",
       "      <td>0</td>\n",
       "    </tr>\n",
       "    <tr>\n",
       "      <th>1</th>\n",
       "      <td>VIPS</td>\n",
       "      <td>3.734148e+09</td>\n",
       "      <td>1.1737</td>\n",
       "      <td>2.805625e+09</td>\n",
       "      <td>9.285226e+08</td>\n",
       "      <td>1.083303e+08</td>\n",
       "      <td>3.441414e+08</td>\n",
       "      <td>7.939267e+08</td>\n",
       "      <td>1.345959e+08</td>\n",
       "      <td>1.214869e+07</td>\n",
       "      <td>1.753823e+08</td>\n",
       "      <td>3.955957e+07</td>\n",
       "      <td>0</td>\n",
       "    </tr>\n",
       "    <tr>\n",
       "      <th>2</th>\n",
       "      <td>KR</td>\n",
       "      <td>9.837500e+10</td>\n",
       "      <td>0.0182</td>\n",
       "      <td>7.813800e+10</td>\n",
       "      <td>2.023700e+10</td>\n",
       "      <td>0.000000e+00</td>\n",
       "      <td>1.519600e+10</td>\n",
       "      <td>1.751200e+10</td>\n",
       "      <td>2.725000e+09</td>\n",
       "      <td>4.430000e+08</td>\n",
       "      <td>2.270000e+09</td>\n",
       "      <td>7.510000e+08</td>\n",
       "      <td>1</td>\n",
       "    </tr>\n",
       "    <tr>\n",
       "      <th>3</th>\n",
       "      <td>RAD</td>\n",
       "      <td>2.552641e+10</td>\n",
       "      <td>0.0053</td>\n",
       "      <td>1.820268e+10</td>\n",
       "      <td>7.323734e+09</td>\n",
       "      <td>0.000000e+00</td>\n",
       "      <td>6.561162e+09</td>\n",
       "      <td>6.586482e+09</td>\n",
       "      <td>7.372520e+08</td>\n",
       "      <td>4.245910e+08</td>\n",
       "      <td>2.502180e+08</td>\n",
       "      <td>8.040000e+05</td>\n",
       "      <td>1</td>\n",
       "    </tr>\n",
       "    <tr>\n",
       "      <th>4</th>\n",
       "      <td>GIS</td>\n",
       "      <td>1.790960e+10</td>\n",
       "      <td>0.0076</td>\n",
       "      <td>1.153980e+10</td>\n",
       "      <td>6.369800e+09</td>\n",
       "      <td>0.000000e+00</td>\n",
       "      <td>3.474300e+09</td>\n",
       "      <td>3.412400e+09</td>\n",
       "      <td>2.957400e+09</td>\n",
       "      <td>3.024000e+08</td>\n",
       "      <td>2.707700e+09</td>\n",
       "      <td>8.833000e+08</td>\n",
       "      <td>1</td>\n",
       "    </tr>\n",
       "    <tr>\n",
       "      <th>...</th>\n",
       "      <td>...</td>\n",
       "      <td>...</td>\n",
       "      <td>...</td>\n",
       "      <td>...</td>\n",
       "      <td>...</td>\n",
       "      <td>...</td>\n",
       "      <td>...</td>\n",
       "      <td>...</td>\n",
       "      <td>...</td>\n",
       "      <td>...</td>\n",
       "      <td>...</td>\n",
       "      <td>...</td>\n",
       "      <td>...</td>\n",
       "    </tr>\n",
       "    <tr>\n",
       "      <th>3803</th>\n",
       "      <td>TSRI</td>\n",
       "      <td>4.952987e+07</td>\n",
       "      <td>0.1028</td>\n",
       "      <td>4.125164e+07</td>\n",
       "      <td>8.278229e+06</td>\n",
       "      <td>0.000000e+00</td>\n",
       "      <td>8.253061e+06</td>\n",
       "      <td>8.253061e+06</td>\n",
       "      <td>2.516800e+04</td>\n",
       "      <td>0.000000e+00</td>\n",
       "      <td>-6.893600e+04</td>\n",
       "      <td>1.700000e+04</td>\n",
       "      <td>1</td>\n",
       "    </tr>\n",
       "    <tr>\n",
       "      <th>3804</th>\n",
       "      <td>TZOO</td>\n",
       "      <td>1.532400e+08</td>\n",
       "      <td>-0.1019</td>\n",
       "      <td>1.917400e+07</td>\n",
       "      <td>1.340660e+08</td>\n",
       "      <td>1.132600e+07</td>\n",
       "      <td>1.125130e+08</td>\n",
       "      <td>1.162560e+08</td>\n",
       "      <td>1.781000e+07</td>\n",
       "      <td>0.000000e+00</td>\n",
       "      <td>1.790100e+07</td>\n",
       "      <td>4.839000e+06</td>\n",
       "      <td>0</td>\n",
       "    </tr>\n",
       "    <tr>\n",
       "      <th>3805</th>\n",
       "      <td>USATP</td>\n",
       "      <td>4.200000e+07</td>\n",
       "      <td>NaN</td>\n",
       "      <td>2.700000e+07</td>\n",
       "      <td>1.500000e+07</td>\n",
       "      <td>NaN</td>\n",
       "      <td>1.400000e+07</td>\n",
       "      <td>1.500000e+07</td>\n",
       "      <td>0.000000e+00</td>\n",
       "      <td>0.000000e+00</td>\n",
       "      <td>0.000000e+00</td>\n",
       "      <td>-2.700000e+07</td>\n",
       "      <td>0</td>\n",
       "    </tr>\n",
       "    <tr>\n",
       "      <th>3806</th>\n",
       "      <td>WSTG</td>\n",
       "      <td>3.407580e+08</td>\n",
       "      <td>0.1344</td>\n",
       "      <td>3.159480e+08</td>\n",
       "      <td>2.481000e+07</td>\n",
       "      <td>0.000000e+00</td>\n",
       "      <td>1.651300e+07</td>\n",
       "      <td>1.651300e+07</td>\n",
       "      <td>8.297000e+06</td>\n",
       "      <td>-4.720000e+05</td>\n",
       "      <td>8.758000e+06</td>\n",
       "      <td>2.998000e+06</td>\n",
       "      <td>1</td>\n",
       "    </tr>\n",
       "    <tr>\n",
       "      <th>3807</th>\n",
       "      <td>WTT</td>\n",
       "      <td>4.033737e+07</td>\n",
       "      <td>0.1925</td>\n",
       "      <td>2.129368e+07</td>\n",
       "      <td>1.904369e+07</td>\n",
       "      <td>3.379920e+06</td>\n",
       "      <td>1.098477e+07</td>\n",
       "      <td>1.436469e+07</td>\n",
       "      <td>4.679002e+06</td>\n",
       "      <td>0.000000e+00</td>\n",
       "      <td>4.588870e+06</td>\n",
       "      <td>2.164718e+06</td>\n",
       "      <td>0</td>\n",
       "    </tr>\n",
       "  </tbody>\n",
       "</table>\n",
       "<p>3808 rows × 13 columns</p>\n",
       "</div>"
      ],
      "text/plain": [
       "     Unnamed: 0       Revenue  Revenue Growth  Cost of Revenue  Gross Profit  \\\n",
       "0            PG  7.440100e+10         -0.0713     3.903000e+10  3.537100e+10   \n",
       "1          VIPS  3.734148e+09          1.1737     2.805625e+09  9.285226e+08   \n",
       "2            KR  9.837500e+10          0.0182     7.813800e+10  2.023700e+10   \n",
       "3           RAD  2.552641e+10          0.0053     1.820268e+10  7.323734e+09   \n",
       "4           GIS  1.790960e+10          0.0076     1.153980e+10  6.369800e+09   \n",
       "...         ...           ...             ...              ...           ...   \n",
       "3803       TSRI  4.952987e+07          0.1028     4.125164e+07  8.278229e+06   \n",
       "3804       TZOO  1.532400e+08         -0.1019     1.917400e+07  1.340660e+08   \n",
       "3805      USATP  4.200000e+07             NaN     2.700000e+07  1.500000e+07   \n",
       "3806       WSTG  3.407580e+08          0.1344     3.159480e+08  2.481000e+07   \n",
       "3807        WTT  4.033737e+07          0.1925     2.129368e+07  1.904369e+07   \n",
       "\n",
       "      R&D Expenses  SG&A Expense  Operating Expenses  Operating Income  \\\n",
       "0     0.000000e+00  2.146100e+10        2.146100e+10      1.391000e+10   \n",
       "1     1.083303e+08  3.441414e+08        7.939267e+08      1.345959e+08   \n",
       "2     0.000000e+00  1.519600e+10        1.751200e+10      2.725000e+09   \n",
       "3     0.000000e+00  6.561162e+09        6.586482e+09      7.372520e+08   \n",
       "4     0.000000e+00  3.474300e+09        3.412400e+09      2.957400e+09   \n",
       "...            ...           ...                 ...               ...   \n",
       "3803  0.000000e+00  8.253061e+06        8.253061e+06      2.516800e+04   \n",
       "3804  1.132600e+07  1.125130e+08        1.162560e+08      1.781000e+07   \n",
       "3805           NaN  1.400000e+07        1.500000e+07      0.000000e+00   \n",
       "3806  0.000000e+00  1.651300e+07        1.651300e+07      8.297000e+06   \n",
       "3807  3.379920e+06  1.098477e+07        1.436469e+07      4.679002e+06   \n",
       "\n",
       "      Interest Expense  Earnings before Tax  Income Tax Expense  Class  \n",
       "0         7.090000e+08         1.449400e+10        2.851000e+09      0  \n",
       "1         1.214869e+07         1.753823e+08        3.955957e+07      0  \n",
       "2         4.430000e+08         2.270000e+09        7.510000e+08      1  \n",
       "3         4.245910e+08         2.502180e+08        8.040000e+05      1  \n",
       "4         3.024000e+08         2.707700e+09        8.833000e+08      1  \n",
       "...                ...                  ...                 ...    ...  \n",
       "3803      0.000000e+00        -6.893600e+04        1.700000e+04      1  \n",
       "3804      0.000000e+00         1.790100e+07        4.839000e+06      0  \n",
       "3805      0.000000e+00         0.000000e+00       -2.700000e+07      0  \n",
       "3806     -4.720000e+05         8.758000e+06        2.998000e+06      1  \n",
       "3807      0.000000e+00         4.588870e+06        2.164718e+06      0  \n",
       "\n",
       "[3808 rows x 13 columns]"
      ]
     },
     "execution_count": 2,
     "metadata": {},
     "output_type": "execute_result"
    }
   ],
   "source": [
    "path = os.path.join('data','stocks.xlsx')\n",
    "\n",
    "df_data = pd.read_excel(path)\n",
    "df_data"
   ]
  },
  {
   "cell_type": "markdown",
   "metadata": {},
   "source": [
    "## Preparation"
   ]
  },
  {
   "cell_type": "markdown",
   "metadata": {},
   "source": [
    "Before we start the analysis, we prepare the data by labelling them correctly and splitting into targets and features."
   ]
  },
  {
   "cell_type": "code",
   "execution_count": 3,
   "metadata": {},
   "outputs": [],
   "source": [
    "target_name = 'Class'\n",
    "\n",
    "# `sr_` prefix stands for a pandas Series\n",
    "sr_targets = df_data.loc[:,target_name]"
   ]
  },
  {
   "cell_type": "markdown",
   "metadata": {},
   "source": [
    "# Question 1\n",
    "(30 points)\n"
   ]
  },
  {
   "cell_type": "markdown",
   "metadata": {},
   "source": [
    "As you learned in the lectures, preprocessing the data set is an important set to use machine learning models. Why is this important? "
   ]
  },
  {
   "cell_type": "markdown",
   "metadata": {},
   "source": [
    "- Preprocessing the data set is important because it affects the ability of our model to learn. An optimization algorithm will focus on the weight of the feature with a very large range. The shape of the weights will determine the cost function, which will create a large elipse for features with a large range. Two common approaches to preprocess the data are normalization or standarization."
   ]
  },
  {
   "cell_type": "markdown",
   "metadata": {},
   "source": [
    "Use the methods discussed in ML2 to preprocess the data. Make descriptive statistics and histograms etc to find out more about the distributions of the data. Discuss your output: are there outliers etc? Then choose what preprocessing to apply.\n"
   ]
  },
  {
   "cell_type": "code",
   "execution_count": 5,
   "metadata": {},
   "outputs": [
    {
     "data": {
      "text/html": [
       "<div>\n",
       "<style scoped>\n",
       "    .dataframe tbody tr th:only-of-type {\n",
       "        vertical-align: middle;\n",
       "    }\n",
       "\n",
       "    .dataframe tbody tr th {\n",
       "        vertical-align: top;\n",
       "    }\n",
       "\n",
       "    .dataframe thead th {\n",
       "        text-align: right;\n",
       "    }\n",
       "</style>\n",
       "<table border=\"1\" class=\"dataframe\">\n",
       "  <thead>\n",
       "    <tr style=\"text-align: right;\">\n",
       "      <th></th>\n",
       "      <th>Unnamed: 0</th>\n",
       "      <th>Revenue</th>\n",
       "      <th>Revenue Growth</th>\n",
       "      <th>Cost of Revenue</th>\n",
       "      <th>Gross Profit</th>\n",
       "      <th>R&amp;D Expenses</th>\n",
       "      <th>SG&amp;A Expense</th>\n",
       "      <th>Operating Expenses</th>\n",
       "      <th>Operating Income</th>\n",
       "      <th>Interest Expense</th>\n",
       "      <th>Earnings before Tax</th>\n",
       "      <th>Income Tax Expense</th>\n",
       "      <th>Class</th>\n",
       "    </tr>\n",
       "  </thead>\n",
       "  <tbody>\n",
       "    <tr>\n",
       "      <th>count</th>\n",
       "      <td>3808</td>\n",
       "      <td>3.761000e+03</td>\n",
       "      <td>3.572000e+03</td>\n",
       "      <td>3.734000e+03</td>\n",
       "      <td>3.756000e+03</td>\n",
       "      <td>3.672000e+03</td>\n",
       "      <td>3.749000e+03</td>\n",
       "      <td>3.741000e+03</td>\n",
       "      <td>3.753000e+03</td>\n",
       "      <td>3.745000e+03</td>\n",
       "      <td>3.728000e+03</td>\n",
       "      <td>3.742000e+03</td>\n",
       "      <td>3808.000000</td>\n",
       "    </tr>\n",
       "    <tr>\n",
       "      <th>unique</th>\n",
       "      <td>3808</td>\n",
       "      <td>NaN</td>\n",
       "      <td>NaN</td>\n",
       "      <td>NaN</td>\n",
       "      <td>NaN</td>\n",
       "      <td>NaN</td>\n",
       "      <td>NaN</td>\n",
       "      <td>NaN</td>\n",
       "      <td>NaN</td>\n",
       "      <td>NaN</td>\n",
       "      <td>NaN</td>\n",
       "      <td>NaN</td>\n",
       "      <td>NaN</td>\n",
       "    </tr>\n",
       "    <tr>\n",
       "      <th>top</th>\n",
       "      <td>INO</td>\n",
       "      <td>NaN</td>\n",
       "      <td>NaN</td>\n",
       "      <td>NaN</td>\n",
       "      <td>NaN</td>\n",
       "      <td>NaN</td>\n",
       "      <td>NaN</td>\n",
       "      <td>NaN</td>\n",
       "      <td>NaN</td>\n",
       "      <td>NaN</td>\n",
       "      <td>NaN</td>\n",
       "      <td>NaN</td>\n",
       "      <td>NaN</td>\n",
       "    </tr>\n",
       "    <tr>\n",
       "      <th>freq</th>\n",
       "      <td>1</td>\n",
       "      <td>NaN</td>\n",
       "      <td>NaN</td>\n",
       "      <td>NaN</td>\n",
       "      <td>NaN</td>\n",
       "      <td>NaN</td>\n",
       "      <td>NaN</td>\n",
       "      <td>NaN</td>\n",
       "      <td>NaN</td>\n",
       "      <td>NaN</td>\n",
       "      <td>NaN</td>\n",
       "      <td>NaN</td>\n",
       "      <td>NaN</td>\n",
       "    </tr>\n",
       "    <tr>\n",
       "      <th>mean</th>\n",
       "      <td>NaN</td>\n",
       "      <td>3.918622e+18</td>\n",
       "      <td>-2.820193e+03</td>\n",
       "      <td>3.700973e+09</td>\n",
       "      <td>2.188214e+09</td>\n",
       "      <td>9.401830e+07</td>\n",
       "      <td>9.307406e+08</td>\n",
       "      <td>-5.999198e+26</td>\n",
       "      <td>6.748248e+08</td>\n",
       "      <td>1.002018e+08</td>\n",
       "      <td>5.725866e+08</td>\n",
       "      <td>1.762750e+08</td>\n",
       "      <td>0.429097</td>\n",
       "    </tr>\n",
       "    <tr>\n",
       "      <th>std</th>\n",
       "      <td>NaN</td>\n",
       "      <td>2.398954e+20</td>\n",
       "      <td>1.673319e+05</td>\n",
       "      <td>3.040688e+10</td>\n",
       "      <td>1.159028e+10</td>\n",
       "      <td>6.408912e+08</td>\n",
       "      <td>4.820928e+09</td>\n",
       "      <td>7.031507e+28</td>\n",
       "      <td>3.786291e+09</td>\n",
       "      <td>6.991091e+08</td>\n",
       "      <td>2.793740e+09</td>\n",
       "      <td>1.011342e+09</td>\n",
       "      <td>0.495012</td>\n",
       "    </tr>\n",
       "    <tr>\n",
       "      <th>min</th>\n",
       "      <td>NaN</td>\n",
       "      <td>-6.276160e+08</td>\n",
       "      <td>-1.000000e+07</td>\n",
       "      <td>-5.455740e+08</td>\n",
       "      <td>-1.105000e+09</td>\n",
       "      <td>-1.500000e+05</td>\n",
       "      <td>0.000000e+00</td>\n",
       "      <td>-3.948300e+30</td>\n",
       "      <td>-6.786000e+09</td>\n",
       "      <td>-2.250000e+08</td>\n",
       "      <td>-8.878000e+09</td>\n",
       "      <td>-2.081114e+09</td>\n",
       "      <td>0.000000</td>\n",
       "    </tr>\n",
       "    <tr>\n",
       "      <th>25%</th>\n",
       "      <td>NaN</td>\n",
       "      <td>5.793000e+07</td>\n",
       "      <td>-2.350000e-03</td>\n",
       "      <td>3.135714e+06</td>\n",
       "      <td>3.092900e+07</td>\n",
       "      <td>0.000000e+00</td>\n",
       "      <td>1.548900e+07</td>\n",
       "      <td>3.106600e+07</td>\n",
       "      <td>-1.308000e+06</td>\n",
       "      <td>0.000000e+00</td>\n",
       "      <td>-3.732902e+06</td>\n",
       "      <td>0.000000e+00</td>\n",
       "      <td>0.000000</td>\n",
       "    </tr>\n",
       "    <tr>\n",
       "      <th>50%</th>\n",
       "      <td>NaN</td>\n",
       "      <td>4.385430e+08</td>\n",
       "      <td>6.185000e-02</td>\n",
       "      <td>1.414420e+08</td>\n",
       "      <td>1.908760e+08</td>\n",
       "      <td>0.000000e+00</td>\n",
       "      <td>7.381800e+07</td>\n",
       "      <td>1.386820e+08</td>\n",
       "      <td>4.104400e+07</td>\n",
       "      <td>2.563000e+06</td>\n",
       "      <td>2.842700e+07</td>\n",
       "      <td>5.335000e+06</td>\n",
       "      <td>0.000000</td>\n",
       "    </tr>\n",
       "    <tr>\n",
       "      <th>75%</th>\n",
       "      <td>NaN</td>\n",
       "      <td>2.395500e+09</td>\n",
       "      <td>1.888750e-01</td>\n",
       "      <td>1.199844e+09</td>\n",
       "      <td>8.922534e+08</td>\n",
       "      <td>9.911000e+06</td>\n",
       "      <td>3.510000e+08</td>\n",
       "      <td>5.885100e+08</td>\n",
       "      <td>2.712980e+08</td>\n",
       "      <td>4.300000e+07</td>\n",
       "      <td>2.193835e+08</td>\n",
       "      <td>5.752550e+07</td>\n",
       "      <td>1.000000</td>\n",
       "    </tr>\n",
       "    <tr>\n",
       "      <th>max</th>\n",
       "      <td>NaN</td>\n",
       "      <td>1.471205e+22</td>\n",
       "      <td>4.213866e+04</td>\n",
       "      <td>1.537249e+12</td>\n",
       "      <td>4.621600e+11</td>\n",
       "      <td>1.153700e+10</td>\n",
       "      <td>1.856830e+11</td>\n",
       "      <td>1.704000e+30</td>\n",
       "      <td>1.565540e+11</td>\n",
       "      <td>3.152300e+10</td>\n",
       "      <td>8.720500e+10</td>\n",
       "      <td>3.970800e+10</td>\n",
       "      <td>1.000000</td>\n",
       "    </tr>\n",
       "  </tbody>\n",
       "</table>\n",
       "</div>"
      ],
      "text/plain": [
       "       Unnamed: 0       Revenue  Revenue Growth  Cost of Revenue  \\\n",
       "count        3808  3.761000e+03    3.572000e+03     3.734000e+03   \n",
       "unique       3808           NaN             NaN              NaN   \n",
       "top           INO           NaN             NaN              NaN   \n",
       "freq            1           NaN             NaN              NaN   \n",
       "mean          NaN  3.918622e+18   -2.820193e+03     3.700973e+09   \n",
       "std           NaN  2.398954e+20    1.673319e+05     3.040688e+10   \n",
       "min           NaN -6.276160e+08   -1.000000e+07    -5.455740e+08   \n",
       "25%           NaN  5.793000e+07   -2.350000e-03     3.135714e+06   \n",
       "50%           NaN  4.385430e+08    6.185000e-02     1.414420e+08   \n",
       "75%           NaN  2.395500e+09    1.888750e-01     1.199844e+09   \n",
       "max           NaN  1.471205e+22    4.213866e+04     1.537249e+12   \n",
       "\n",
       "        Gross Profit  R&D Expenses  SG&A Expense  Operating Expenses  \\\n",
       "count   3.756000e+03  3.672000e+03  3.749000e+03        3.741000e+03   \n",
       "unique           NaN           NaN           NaN                 NaN   \n",
       "top              NaN           NaN           NaN                 NaN   \n",
       "freq             NaN           NaN           NaN                 NaN   \n",
       "mean    2.188214e+09  9.401830e+07  9.307406e+08       -5.999198e+26   \n",
       "std     1.159028e+10  6.408912e+08  4.820928e+09        7.031507e+28   \n",
       "min    -1.105000e+09 -1.500000e+05  0.000000e+00       -3.948300e+30   \n",
       "25%     3.092900e+07  0.000000e+00  1.548900e+07        3.106600e+07   \n",
       "50%     1.908760e+08  0.000000e+00  7.381800e+07        1.386820e+08   \n",
       "75%     8.922534e+08  9.911000e+06  3.510000e+08        5.885100e+08   \n",
       "max     4.621600e+11  1.153700e+10  1.856830e+11        1.704000e+30   \n",
       "\n",
       "        Operating Income  Interest Expense  Earnings before Tax  \\\n",
       "count       3.753000e+03      3.745000e+03         3.728000e+03   \n",
       "unique               NaN               NaN                  NaN   \n",
       "top                  NaN               NaN                  NaN   \n",
       "freq                 NaN               NaN                  NaN   \n",
       "mean        6.748248e+08      1.002018e+08         5.725866e+08   \n",
       "std         3.786291e+09      6.991091e+08         2.793740e+09   \n",
       "min        -6.786000e+09     -2.250000e+08        -8.878000e+09   \n",
       "25%        -1.308000e+06      0.000000e+00        -3.732902e+06   \n",
       "50%         4.104400e+07      2.563000e+06         2.842700e+07   \n",
       "75%         2.712980e+08      4.300000e+07         2.193835e+08   \n",
       "max         1.565540e+11      3.152300e+10         8.720500e+10   \n",
       "\n",
       "        Income Tax Expense        Class  \n",
       "count         3.742000e+03  3808.000000  \n",
       "unique                 NaN          NaN  \n",
       "top                    NaN          NaN  \n",
       "freq                   NaN          NaN  \n",
       "mean          1.762750e+08     0.429097  \n",
       "std           1.011342e+09     0.495012  \n",
       "min          -2.081114e+09     0.000000  \n",
       "25%           0.000000e+00     0.000000  \n",
       "50%           5.335000e+06     0.000000  \n",
       "75%           5.752550e+07     1.000000  \n",
       "max           3.970800e+10     1.000000  "
      ]
     },
     "execution_count": 5,
     "metadata": {},
     "output_type": "execute_result"
    }
   ],
   "source": [
    "# Just creating basic statistic overview\n",
    "stats = pd.DataFrame(df_data.describe(include='all'))\n",
    "stats"
   ]
  },
  {
   "cell_type": "code",
   "execution_count": 6,
   "metadata": {},
   "outputs": [
    {
     "data": {
      "text/plain": [
       "array([[<AxesSubplot:title={'center':'Revenue'}>,\n",
       "        <AxesSubplot:title={'center':'Revenue Growth'}>,\n",
       "        <AxesSubplot:title={'center':'Cost of Revenue'}>],\n",
       "       [<AxesSubplot:title={'center':'Gross Profit'}>,\n",
       "        <AxesSubplot:title={'center':'R&D Expenses'}>,\n",
       "        <AxesSubplot:title={'center':'SG&A Expense'}>],\n",
       "       [<AxesSubplot:title={'center':'Operating Expenses'}>,\n",
       "        <AxesSubplot:title={'center':'Operating Income'}>,\n",
       "        <AxesSubplot:title={'center':'Interest Expense'}>],\n",
       "       [<AxesSubplot:title={'center':'Earnings before Tax'}>,\n",
       "        <AxesSubplot:title={'center':'Income Tax Expense'}>,\n",
       "        <AxesSubplot:title={'center':'Class'}>]], dtype=object)"
      ]
     },
     "execution_count": 6,
     "metadata": {},
     "output_type": "execute_result"
    },
    {
     "data": {
      "image/png": "[encoded data removed]",
      "text/plain": [
       "<Figure size 2160x2160 with 12 Axes>"
      ]
     },
     "metadata": {
      "needs_background": "light"
     },
     "output_type": "display_data"
    }
   ],
   "source": [
    "# Histograms of raw data\n",
    "df_data.hist(figsize=(30,30))"
   ]
  },
  {
   "cell_type": "markdown",
   "metadata": {},
   "source": [
    "- From the histograms and descriptive stats we can see our data has huge outliers. To treat this we decided to use standardization.\n",
    "- The standardization process rescales the data while giving the same standard deviation and transforms it more to the center.\n",
    "- Standardization is applied on all columns except for the 'Class' and 'Unnamed:0'. Using standardization, the values can be compared. "
   ]
  },
  {
   "cell_type": "code",
   "execution_count": 7,
   "metadata": {},
   "outputs": [],
   "source": [
    "# Below all the columns except for unnamed:0 and Class\n",
    "df_x = df_data[[\"Revenue\",\"Revenue Growth\",\"Cost of Revenue\",\"Gross Profit\",\"R&D Expenses\",\"SG&A Expense\",\"Operating Expenses\",\"Operating Income\",\"Interest Expense\",\"Earnings before Tax\",\"Income Tax Expense\"]]"
   ]
  },
  {
   "cell_type": "code",
   "execution_count": 8,
   "metadata": {},
   "outputs": [],
   "source": [
    "# Standardization for these columns and replaced it in the existing dataframe\n",
    "df_data[[\"Revenue\",\"Revenue Growth\",\"Cost of Revenue\",\"Gross Profit\",\"R&D Expenses\",\"SG&A Expense\",\"Operating Expenses\",\"Operating Income\",\"Interest Expense\",\"Earnings before Tax\",\"Income Tax Expense\"]] = (df_x-df_x.mean())/df_x.std()"
   ]
  },
  {
   "cell_type": "code",
   "execution_count": 9,
   "metadata": {},
   "outputs": [],
   "source": [
    "#Renaming data frame\n",
    "df_data_st = df_data"
   ]
  },
  {
   "cell_type": "code",
   "execution_count": 11,
   "metadata": {},
   "outputs": [
    {
     "data": {
      "text/html": [
       "<div>\n",
       "<style scoped>\n",
       "    .dataframe tbody tr th:only-of-type {\n",
       "        vertical-align: middle;\n",
       "    }\n",
       "\n",
       "    .dataframe tbody tr th {\n",
       "        vertical-align: top;\n",
       "    }\n",
       "\n",
       "    .dataframe thead th {\n",
       "        text-align: right;\n",
       "    }\n",
       "</style>\n",
       "<table border=\"1\" class=\"dataframe\">\n",
       "  <thead>\n",
       "    <tr style=\"text-align: right;\">\n",
       "      <th></th>\n",
       "      <th>Unnamed: 0</th>\n",
       "      <th>Revenue</th>\n",
       "      <th>Revenue Growth</th>\n",
       "      <th>Cost of Revenue</th>\n",
       "      <th>Gross Profit</th>\n",
       "      <th>R&amp;D Expenses</th>\n",
       "      <th>SG&amp;A Expense</th>\n",
       "      <th>Operating Expenses</th>\n",
       "      <th>Operating Income</th>\n",
       "      <th>Interest Expense</th>\n",
       "      <th>Earnings before Tax</th>\n",
       "      <th>Income Tax Expense</th>\n",
       "      <th>Class</th>\n",
       "    </tr>\n",
       "  </thead>\n",
       "  <tbody>\n",
       "    <tr>\n",
       "      <th>count</th>\n",
       "      <td>3808</td>\n",
       "      <td>3.761000e+03</td>\n",
       "      <td>3.572000e+03</td>\n",
       "      <td>3.734000e+03</td>\n",
       "      <td>3.756000e+03</td>\n",
       "      <td>3.672000e+03</td>\n",
       "      <td>3.749000e+03</td>\n",
       "      <td>3.741000e+03</td>\n",
       "      <td>3.753000e+03</td>\n",
       "      <td>3.745000e+03</td>\n",
       "      <td>3.728000e+03</td>\n",
       "      <td>3.742000e+03</td>\n",
       "      <td>3808.000000</td>\n",
       "    </tr>\n",
       "    <tr>\n",
       "      <th>unique</th>\n",
       "      <td>3808</td>\n",
       "      <td>NaN</td>\n",
       "      <td>NaN</td>\n",
       "      <td>NaN</td>\n",
       "      <td>NaN</td>\n",
       "      <td>NaN</td>\n",
       "      <td>NaN</td>\n",
       "      <td>NaN</td>\n",
       "      <td>NaN</td>\n",
       "      <td>NaN</td>\n",
       "      <td>NaN</td>\n",
       "      <td>NaN</td>\n",
       "      <td>NaN</td>\n",
       "    </tr>\n",
       "    <tr>\n",
       "      <th>top</th>\n",
       "      <td>INO</td>\n",
       "      <td>NaN</td>\n",
       "      <td>NaN</td>\n",
       "      <td>NaN</td>\n",
       "      <td>NaN</td>\n",
       "      <td>NaN</td>\n",
       "      <td>NaN</td>\n",
       "      <td>NaN</td>\n",
       "      <td>NaN</td>\n",
       "      <td>NaN</td>\n",
       "      <td>NaN</td>\n",
       "      <td>NaN</td>\n",
       "      <td>NaN</td>\n",
       "    </tr>\n",
       "    <tr>\n",
       "      <th>freq</th>\n",
       "      <td>1</td>\n",
       "      <td>NaN</td>\n",
       "      <td>NaN</td>\n",
       "      <td>NaN</td>\n",
       "      <td>NaN</td>\n",
       "      <td>NaN</td>\n",
       "      <td>NaN</td>\n",
       "      <td>NaN</td>\n",
       "      <td>NaN</td>\n",
       "      <td>NaN</td>\n",
       "      <td>NaN</td>\n",
       "      <td>NaN</td>\n",
       "      <td>NaN</td>\n",
       "    </tr>\n",
       "    <tr>\n",
       "      <th>mean</th>\n",
       "      <td>NaN</td>\n",
       "      <td>-4.838868e-17</td>\n",
       "      <td>-1.165256e-17</td>\n",
       "      <td>3.637066e-17</td>\n",
       "      <td>2.912266e-17</td>\n",
       "      <td>4.965920e-16</td>\n",
       "      <td>1.639052e-16</td>\n",
       "      <td>7.814890e-16</td>\n",
       "      <td>3.680036e-17</td>\n",
       "      <td>2.071848e-16</td>\n",
       "      <td>9.081612e-17</td>\n",
       "      <td>-2.809529e-16</td>\n",
       "      <td>0.429097</td>\n",
       "    </tr>\n",
       "    <tr>\n",
       "      <th>std</th>\n",
       "      <td>NaN</td>\n",
       "      <td>1.000000e+00</td>\n",
       "      <td>1.000000e+00</td>\n",
       "      <td>1.000000e+00</td>\n",
       "      <td>1.000000e+00</td>\n",
       "      <td>1.000000e+00</td>\n",
       "      <td>1.000000e+00</td>\n",
       "      <td>1.000000e+00</td>\n",
       "      <td>1.000000e+00</td>\n",
       "      <td>1.000000e+00</td>\n",
       "      <td>1.000000e+00</td>\n",
       "      <td>1.000000e+00</td>\n",
       "      <td>0.495012</td>\n",
       "    </tr>\n",
       "    <tr>\n",
       "      <th>min</th>\n",
       "      <td>NaN</td>\n",
       "      <td>-1.633471e-02</td>\n",
       "      <td>-5.974465e+01</td>\n",
       "      <td>-1.396574e-01</td>\n",
       "      <td>-2.841360e-01</td>\n",
       "      <td>-1.469334e-01</td>\n",
       "      <td>-1.930625e-01</td>\n",
       "      <td>-5.614301e+01</td>\n",
       "      <td>-1.970484e+00</td>\n",
       "      <td>-4.651660e-01</td>\n",
       "      <td>-3.382772e+00</td>\n",
       "      <td>-2.232072e+00</td>\n",
       "      <td>0.000000</td>\n",
       "    </tr>\n",
       "    <tr>\n",
       "      <th>25%</th>\n",
       "      <td>NaN</td>\n",
       "      <td>-1.633471e-02</td>\n",
       "      <td>1.685388e-02</td>\n",
       "      <td>-1.216119e-01</td>\n",
       "      <td>-1.861289e-01</td>\n",
       "      <td>-1.466993e-01</td>\n",
       "      <td>-1.898497e-01</td>\n",
       "      <td>8.531881e-03</td>\n",
       "      <td>-1.785739e-01</td>\n",
       "      <td>-1.433279e-01</td>\n",
       "      <td>-2.062896e-01</td>\n",
       "      <td>-1.742981e-01</td>\n",
       "      <td>0.000000</td>\n",
       "    </tr>\n",
       "    <tr>\n",
       "      <th>50%</th>\n",
       "      <td>NaN</td>\n",
       "      <td>-1.633471e-02</td>\n",
       "      <td>1.685426e-02</td>\n",
       "      <td>-1.170633e-01</td>\n",
       "      <td>-1.723288e-01</td>\n",
       "      <td>-1.466993e-01</td>\n",
       "      <td>-1.777506e-01</td>\n",
       "      <td>8.531881e-03</td>\n",
       "      <td>-1.673883e-01</td>\n",
       "      <td>-1.396618e-01</td>\n",
       "      <td>-1.947782e-01</td>\n",
       "      <td>-1.690229e-01</td>\n",
       "      <td>0.000000</td>\n",
       "    </tr>\n",
       "    <tr>\n",
       "      <th>75%</th>\n",
       "      <td>NaN</td>\n",
       "      <td>-1.633471e-02</td>\n",
       "      <td>1.685502e-02</td>\n",
       "      <td>-8.225536e-02</td>\n",
       "      <td>-1.118145e-01</td>\n",
       "      <td>-1.312349e-01</td>\n",
       "      <td>-1.202550e-01</td>\n",
       "      <td>8.531881e-03</td>\n",
       "      <td>-1.065758e-01</td>\n",
       "      <td>-8.182099e-02</td>\n",
       "      <td>-1.264266e-01</td>\n",
       "      <td>-1.174177e-01</td>\n",
       "      <td>1.000000</td>\n",
       "    </tr>\n",
       "    <tr>\n",
       "      <th>max</th>\n",
       "      <td>NaN</td>\n",
       "      <td>6.131059e+01</td>\n",
       "      <td>2.686808e-01</td>\n",
       "      <td>5.043424e+01</td>\n",
       "      <td>3.968601e+01</td>\n",
       "      <td>1.785480e+01</td>\n",
       "      <td>3.832297e+01</td>\n",
       "      <td>2.424231e+01</td>\n",
       "      <td>4.116936e+01</td>\n",
       "      <td>4.494692e+01</td>\n",
       "      <td>3.100947e+01</td>\n",
       "      <td>3.908838e+01</td>\n",
       "      <td>1.000000</td>\n",
       "    </tr>\n",
       "  </tbody>\n",
       "</table>\n",
       "</div>"
      ],
      "text/plain": [
       "       Unnamed: 0       Revenue  Revenue Growth  Cost of Revenue  \\\n",
       "count        3808  3.761000e+03    3.572000e+03     3.734000e+03   \n",
       "unique       3808           NaN             NaN              NaN   \n",
       "top           INO           NaN             NaN              NaN   \n",
       "freq            1           NaN             NaN              NaN   \n",
       "mean          NaN -4.838868e-17   -1.165256e-17     3.637066e-17   \n",
       "std           NaN  1.000000e+00    1.000000e+00     1.000000e+00   \n",
       "min           NaN -1.633471e-02   -5.974465e+01    -1.396574e-01   \n",
       "25%           NaN -1.633471e-02    1.685388e-02    -1.216119e-01   \n",
       "50%           NaN -1.633471e-02    1.685426e-02    -1.170633e-01   \n",
       "75%           NaN -1.633471e-02    1.685502e-02    -8.225536e-02   \n",
       "max           NaN  6.131059e+01    2.686808e-01     5.043424e+01   \n",
       "\n",
       "        Gross Profit  R&D Expenses  SG&A Expense  Operating Expenses  \\\n",
       "count   3.756000e+03  3.672000e+03  3.749000e+03        3.741000e+03   \n",
       "unique           NaN           NaN           NaN                 NaN   \n",
       "top              NaN           NaN           NaN                 NaN   \n",
       "freq             NaN           NaN           NaN                 NaN   \n",
       "mean    2.912266e-17  4.965920e-16  1.639052e-16        7.814890e-16   \n",
       "std     1.000000e+00  1.000000e+00  1.000000e+00        1.000000e+00   \n",
       "min    -2.841360e-01 -1.469334e-01 -1.930625e-01       -5.614301e+01   \n",
       "25%    -1.861289e-01 -1.466993e-01 -1.898497e-01        8.531881e-03   \n",
       "50%    -1.723288e-01 -1.466993e-01 -1.777506e-01        8.531881e-03   \n",
       "75%    -1.118145e-01 -1.312349e-01 -1.202550e-01        8.531881e-03   \n",
       "max     3.968601e+01  1.785480e+01  3.832297e+01        2.424231e+01   \n",
       "\n",
       "        Operating Income  Interest Expense  Earnings before Tax  \\\n",
       "count       3.753000e+03      3.745000e+03         3.728000e+03   \n",
       "unique               NaN               NaN                  NaN   \n",
       "top                  NaN               NaN                  NaN   \n",
       "freq                 NaN               NaN                  NaN   \n",
       "mean        3.680036e-17      2.071848e-16         9.081612e-17   \n",
       "std         1.000000e+00      1.000000e+00         1.000000e+00   \n",
       "min        -1.970484e+00     -4.651660e-01        -3.382772e+00   \n",
       "25%        -1.785739e-01     -1.433279e-01        -2.062896e-01   \n",
       "50%        -1.673883e-01     -1.396618e-01        -1.947782e-01   \n",
       "75%        -1.065758e-01     -8.182099e-02        -1.264266e-01   \n",
       "max         4.116936e+01      4.494692e+01         3.100947e+01   \n",
       "\n",
       "        Income Tax Expense        Class  \n",
       "count         3.742000e+03  3808.000000  \n",
       "unique                 NaN          NaN  \n",
       "top                    NaN          NaN  \n",
       "freq                   NaN          NaN  \n",
       "mean         -2.809529e-16     0.429097  \n",
       "std           1.000000e+00     0.495012  \n",
       "min          -2.232072e+00     0.000000  \n",
       "25%          -1.742981e-01     0.000000  \n",
       "50%          -1.690229e-01     0.000000  \n",
       "75%          -1.174177e-01     1.000000  \n",
       "max           3.908838e+01     1.000000  "
      ]
     },
     "execution_count": 11,
     "metadata": {},
     "output_type": "execute_result"
    }
   ],
   "source": [
    "# The statistical overview of the standardized data\n",
    "stats_standardized = pd.DataFrame(df_data_st.describe(include='all'))\n",
    "stats_standardized"
   ]
  },
  {
   "cell_type": "code",
   "execution_count": 12,
   "metadata": {},
   "outputs": [
    {
     "data": {
      "text/plain": [
       "array([[<AxesSubplot:title={'center':'Revenue'}>,\n",
       "        <AxesSubplot:title={'center':'Revenue Growth'}>,\n",
       "        <AxesSubplot:title={'center':'Cost of Revenue'}>],\n",
       "       [<AxesSubplot:title={'center':'Gross Profit'}>,\n",
       "        <AxesSubplot:title={'center':'R&D Expenses'}>,\n",
       "        <AxesSubplot:title={'center':'SG&A Expense'}>],\n",
       "       [<AxesSubplot:title={'center':'Operating Expenses'}>,\n",
       "        <AxesSubplot:title={'center':'Operating Income'}>,\n",
       "        <AxesSubplot:title={'center':'Interest Expense'}>],\n",
       "       [<AxesSubplot:title={'center':'Earnings before Tax'}>,\n",
       "        <AxesSubplot:title={'center':'Income Tax Expense'}>,\n",
       "        <AxesSubplot:title={'center':'Class'}>]], dtype=object)"
      ]
     },
     "execution_count": 12,
     "metadata": {},
     "output_type": "execute_result"
    },
    {
     "data": {
      "image/png": "[encoded data removed]",
      "text/plain": [
       "<Figure size 2160x2160 with 12 Axes>"
      ]
     },
     "metadata": {
      "needs_background": "light"
     },
     "output_type": "display_data"
    }
   ],
   "source": [
    "# Histograms of the standardized data, still the same because of the outliers but now on a comparable scale\n",
    "df_data_st.hist(figsize=(30,30))"
   ]
  },
  {
   "cell_type": "markdown",
   "metadata": {},
   "source": [
    "- After the standardization process there are still huge outliers. We can treat those with winsorizing the data.\n",
    "- Winsorizing process limits extreme values to reduce the effect of outliers. We decided to use winsorize instead of dropping outliers. It was the best decision to not lose any observations for further logisctic regressions."
   ]
  },
  {
   "cell_type": "code",
   "execution_count": 14,
   "metadata": {},
   "outputs": [],
   "source": [
    "# Below using all the columns except for unnamed:0 and Class\n",
    "df_x2 = df_data_st[[\"Revenue\",\"Revenue Growth\",\"Cost of Revenue\",\"Gross Profit\",\"R&D Expenses\",\"SG&A Expense\",\"Operating Expenses\",\"Operating Income\",\"Interest Expense\",\"Earnings before Tax\",\"Income Tax Expense\"]]"
   ]
  },
  {
   "cell_type": "code",
   "execution_count": 15,
   "metadata": {},
   "outputs": [],
   "source": [
    "def using_mstats_df(df):\n",
    "    return df.apply(using_mstats, axis=0)\n",
    "\n",
    "def using_mstats(s):\n",
    "    return mstats.winsorize(s, limits=[0.1, 0.1])"
   ]
  },
  {
   "cell_type": "code",
   "execution_count": 16,
   "metadata": {},
   "outputs": [],
   "source": [
    "# Here winsorized these columns and replaced it in the existing dataframe\n",
    "df_data_st[[\"Revenue\",\"Revenue Growth\",\"Cost of Revenue\",\"Gross Profit\",\"R&D Expenses\",\"SG&A Expense\",\"Operating Expenses\",\"Operating Income\",\"Interest Expense\",\"Earnings before Tax\",\"Income Tax Expense\"]] = using_mstats_df(df_x2)"
   ]
  },
  {
   "cell_type": "code",
   "execution_count": 18,
   "metadata": {},
   "outputs": [
    {
     "data": {
      "text/html": [
       "<div>\n",
       "<style scoped>\n",
       "    .dataframe tbody tr th:only-of-type {\n",
       "        vertical-align: middle;\n",
       "    }\n",
       "\n",
       "    .dataframe tbody tr th {\n",
       "        vertical-align: top;\n",
       "    }\n",
       "\n",
       "    .dataframe thead th {\n",
       "        text-align: right;\n",
       "    }\n",
       "</style>\n",
       "<table border=\"1\" class=\"dataframe\">\n",
       "  <thead>\n",
       "    <tr style=\"text-align: right;\">\n",
       "      <th></th>\n",
       "      <th>Unnamed: 0</th>\n",
       "      <th>Revenue</th>\n",
       "      <th>Revenue Growth</th>\n",
       "      <th>Cost of Revenue</th>\n",
       "      <th>Gross Profit</th>\n",
       "      <th>R&amp;D Expenses</th>\n",
       "      <th>SG&amp;A Expense</th>\n",
       "      <th>Operating Expenses</th>\n",
       "      <th>Operating Income</th>\n",
       "      <th>Interest Expense</th>\n",
       "      <th>Earnings before Tax</th>\n",
       "      <th>Income Tax Expense</th>\n",
       "      <th>Class</th>\n",
       "    </tr>\n",
       "  </thead>\n",
       "  <tbody>\n",
       "    <tr>\n",
       "      <th>count</th>\n",
       "      <td>3808</td>\n",
       "      <td>3.808000e+03</td>\n",
       "      <td>3808.000000</td>\n",
       "      <td>3808.000000</td>\n",
       "      <td>3808.000000</td>\n",
       "      <td>3808.000000</td>\n",
       "      <td>3808.000000</td>\n",
       "      <td>3.808000e+03</td>\n",
       "      <td>3808.000000</td>\n",
       "      <td>3808.000000</td>\n",
       "      <td>3808.000000</td>\n",
       "      <td>3808.000000</td>\n",
       "      <td>3808.000000</td>\n",
       "    </tr>\n",
       "    <tr>\n",
       "      <th>unique</th>\n",
       "      <td>3808</td>\n",
       "      <td>NaN</td>\n",
       "      <td>NaN</td>\n",
       "      <td>NaN</td>\n",
       "      <td>NaN</td>\n",
       "      <td>NaN</td>\n",
       "      <td>NaN</td>\n",
       "      <td>NaN</td>\n",
       "      <td>NaN</td>\n",
       "      <td>NaN</td>\n",
       "      <td>NaN</td>\n",
       "      <td>NaN</td>\n",
       "      <td>NaN</td>\n",
       "    </tr>\n",
       "    <tr>\n",
       "      <th>top</th>\n",
       "      <td>INO</td>\n",
       "      <td>NaN</td>\n",
       "      <td>NaN</td>\n",
       "      <td>NaN</td>\n",
       "      <td>NaN</td>\n",
       "      <td>NaN</td>\n",
       "      <td>NaN</td>\n",
       "      <td>NaN</td>\n",
       "      <td>NaN</td>\n",
       "      <td>NaN</td>\n",
       "      <td>NaN</td>\n",
       "      <td>NaN</td>\n",
       "      <td>NaN</td>\n",
       "    </tr>\n",
       "    <tr>\n",
       "      <th>freq</th>\n",
       "      <td>1</td>\n",
       "      <td>NaN</td>\n",
       "      <td>NaN</td>\n",
       "      <td>NaN</td>\n",
       "      <td>NaN</td>\n",
       "      <td>NaN</td>\n",
       "      <td>NaN</td>\n",
       "      <td>NaN</td>\n",
       "      <td>NaN</td>\n",
       "      <td>NaN</td>\n",
       "      <td>NaN</td>\n",
       "      <td>NaN</td>\n",
       "      <td>NaN</td>\n",
       "    </tr>\n",
       "    <tr>\n",
       "      <th>mean</th>\n",
       "      <td>NaN</td>\n",
       "      <td>-1.633471e-02</td>\n",
       "      <td>0.016855</td>\n",
       "      <td>-0.077038</td>\n",
       "      <td>-0.112561</td>\n",
       "      <td>-0.115520</td>\n",
       "      <td>-0.118896</td>\n",
       "      <td>8.531881e-03</td>\n",
       "      <td>-0.100676</td>\n",
       "      <td>-0.081202</td>\n",
       "      <td>-0.108837</td>\n",
       "      <td>-0.103618</td>\n",
       "      <td>0.429097</td>\n",
       "    </tr>\n",
       "    <tr>\n",
       "      <th>std</th>\n",
       "      <td>NaN</td>\n",
       "      <td>1.640775e-11</td>\n",
       "      <td>0.000002</td>\n",
       "      <td>0.076463</td>\n",
       "      <td>0.119451</td>\n",
       "      <td>0.062209</td>\n",
       "      <td>0.116674</td>\n",
       "      <td>8.535960e-16</td>\n",
       "      <td>0.133363</td>\n",
       "      <td>0.105892</td>\n",
       "      <td>0.171871</td>\n",
       "      <td>0.125579</td>\n",
       "      <td>0.495012</td>\n",
       "    </tr>\n",
       "    <tr>\n",
       "      <th>min</th>\n",
       "      <td>NaN</td>\n",
       "      <td>-1.633471e-02</td>\n",
       "      <td>0.016853</td>\n",
       "      <td>-0.121715</td>\n",
       "      <td>-0.188527</td>\n",
       "      <td>-0.146699</td>\n",
       "      <td>-0.192026</td>\n",
       "      <td>8.531881e-03</td>\n",
       "      <td>-0.184717</td>\n",
       "      <td>-0.143328</td>\n",
       "      <td>-0.216352</td>\n",
       "      <td>-0.174777</td>\n",
       "      <td>0.000000</td>\n",
       "    </tr>\n",
       "    <tr>\n",
       "      <th>25%</th>\n",
       "      <td>NaN</td>\n",
       "      <td>-1.633471e-02</td>\n",
       "      <td>0.016854</td>\n",
       "      <td>-0.121592</td>\n",
       "      <td>-0.186050</td>\n",
       "      <td>-0.146699</td>\n",
       "      <td>-0.189793</td>\n",
       "      <td>8.531881e-03</td>\n",
       "      <td>-0.178485</td>\n",
       "      <td>-0.143328</td>\n",
       "      <td>-0.206064</td>\n",
       "      <td>-0.174298</td>\n",
       "      <td>0.000000</td>\n",
       "    </tr>\n",
       "    <tr>\n",
       "      <th>50%</th>\n",
       "      <td>NaN</td>\n",
       "      <td>-1.633471e-02</td>\n",
       "      <td>0.016854</td>\n",
       "      <td>-0.116543</td>\n",
       "      <td>-0.171569</td>\n",
       "      <td>-0.146699</td>\n",
       "      <td>-0.176897</td>\n",
       "      <td>8.531881e-03</td>\n",
       "      <td>-0.166541</td>\n",
       "      <td>-0.139169</td>\n",
       "      <td>-0.193718</td>\n",
       "      <td>-0.168441</td>\n",
       "      <td>0.000000</td>\n",
       "    </tr>\n",
       "    <tr>\n",
       "      <th>75%</th>\n",
       "      <td>NaN</td>\n",
       "      <td>-1.633471e-02</td>\n",
       "      <td>0.016855</td>\n",
       "      <td>-0.077995</td>\n",
       "      <td>-0.106954</td>\n",
       "      <td>-0.124184</td>\n",
       "      <td>-0.113388</td>\n",
       "      <td>8.531881e-03</td>\n",
       "      <td>-0.100632</td>\n",
       "      <td>-0.074994</td>\n",
       "      <td>-0.113761</td>\n",
       "      <td>-0.109373</td>\n",
       "      <td>1.000000</td>\n",
       "    </tr>\n",
       "    <tr>\n",
       "      <th>max</th>\n",
       "      <td>NaN</td>\n",
       "      <td>-1.633471e-02</td>\n",
       "      <td>0.016861</td>\n",
       "      <td>0.116257</td>\n",
       "      <td>0.184330</td>\n",
       "      <td>0.048342</td>\n",
       "      <td>0.171756</td>\n",
       "      <td>8.531881e-03</td>\n",
       "      <td>0.236161</td>\n",
       "      <td>0.181534</td>\n",
       "      <td>0.326950</td>\n",
       "      <td>0.213306</td>\n",
       "      <td>1.000000</td>\n",
       "    </tr>\n",
       "  </tbody>\n",
       "</table>\n",
       "</div>"
      ],
      "text/plain": [
       "       Unnamed: 0       Revenue  Revenue Growth  Cost of Revenue  \\\n",
       "count        3808  3.808000e+03     3808.000000      3808.000000   \n",
       "unique       3808           NaN             NaN              NaN   \n",
       "top           INO           NaN             NaN              NaN   \n",
       "freq            1           NaN             NaN              NaN   \n",
       "mean          NaN -1.633471e-02        0.016855        -0.077038   \n",
       "std           NaN  1.640775e-11        0.000002         0.076463   \n",
       "min           NaN -1.633471e-02        0.016853        -0.121715   \n",
       "25%           NaN -1.633471e-02        0.016854        -0.121592   \n",
       "50%           NaN -1.633471e-02        0.016854        -0.116543   \n",
       "75%           NaN -1.633471e-02        0.016855        -0.077995   \n",
       "max           NaN -1.633471e-02        0.016861         0.116257   \n",
       "\n",
       "        Gross Profit  R&D Expenses  SG&A Expense  Operating Expenses  \\\n",
       "count    3808.000000   3808.000000   3808.000000        3.808000e+03   \n",
       "unique           NaN           NaN           NaN                 NaN   \n",
       "top              NaN           NaN           NaN                 NaN   \n",
       "freq             NaN           NaN           NaN                 NaN   \n",
       "mean       -0.112561     -0.115520     -0.118896        8.531881e-03   \n",
       "std         0.119451      0.062209      0.116674        8.535960e-16   \n",
       "min        -0.188527     -0.146699     -0.192026        8.531881e-03   \n",
       "25%        -0.186050     -0.146699     -0.189793        8.531881e-03   \n",
       "50%        -0.171569     -0.146699     -0.176897        8.531881e-03   \n",
       "75%        -0.106954     -0.124184     -0.113388        8.531881e-03   \n",
       "max         0.184330      0.048342      0.171756        8.531881e-03   \n",
       "\n",
       "        Operating Income  Interest Expense  Earnings before Tax  \\\n",
       "count        3808.000000       3808.000000          3808.000000   \n",
       "unique               NaN               NaN                  NaN   \n",
       "top                  NaN               NaN                  NaN   \n",
       "freq                 NaN               NaN                  NaN   \n",
       "mean           -0.100676         -0.081202            -0.108837   \n",
       "std             0.133363          0.105892             0.171871   \n",
       "min            -0.184717         -0.143328            -0.216352   \n",
       "25%            -0.178485         -0.143328            -0.206064   \n",
       "50%            -0.166541         -0.139169            -0.193718   \n",
       "75%            -0.100632         -0.074994            -0.113761   \n",
       "max             0.236161          0.181534             0.326950   \n",
       "\n",
       "        Income Tax Expense        Class  \n",
       "count          3808.000000  3808.000000  \n",
       "unique                 NaN          NaN  \n",
       "top                    NaN          NaN  \n",
       "freq                   NaN          NaN  \n",
       "mean             -0.103618     0.429097  \n",
       "std               0.125579     0.495012  \n",
       "min              -0.174777     0.000000  \n",
       "25%              -0.174298     0.000000  \n",
       "50%              -0.168441     0.000000  \n",
       "75%              -0.109373     1.000000  \n",
       "max               0.213306     1.000000  "
      ]
     },
     "execution_count": 18,
     "metadata": {},
     "output_type": "execute_result"
    }
   ],
   "source": [
    "# Basic statistics of standardized and then windsorized dataset\n",
    "stats_standardized_w = pd.DataFrame(df_data_st.describe(include='all'))\n",
    "stats_standardized_w"
   ]
  },
  {
   "cell_type": "code",
   "execution_count": 19,
   "metadata": {},
   "outputs": [
    {
     "data": {
      "text/plain": [
       "array([[<AxesSubplot:title={'center':'Revenue'}>,\n",
       "        <AxesSubplot:title={'center':'Revenue Growth'}>,\n",
       "        <AxesSubplot:title={'center':'Cost of Revenue'}>],\n",
       "       [<AxesSubplot:title={'center':'Gross Profit'}>,\n",
       "        <AxesSubplot:title={'center':'R&D Expenses'}>,\n",
       "        <AxesSubplot:title={'center':'SG&A Expense'}>],\n",
       "       [<AxesSubplot:title={'center':'Operating Expenses'}>,\n",
       "        <AxesSubplot:title={'center':'Operating Income'}>,\n",
       "        <AxesSubplot:title={'center':'Interest Expense'}>],\n",
       "       [<AxesSubplot:title={'center':'Earnings before Tax'}>,\n",
       "        <AxesSubplot:title={'center':'Income Tax Expense'}>,\n",
       "        <AxesSubplot:title={'center':'Class'}>]], dtype=object)"
      ]
     },
     "execution_count": 19,
     "metadata": {},
     "output_type": "execute_result"
    },
    {
     "data": {
      "image/png": "[encoded data removed]",
      "text/plain": [
       "<Figure size 2160x2160 with 12 Axes>"
      ]
     },
     "metadata": {
      "needs_background": "light"
     },
     "output_type": "display_data"
    }
   ],
   "source": [
    "# Histograms of standardized and windsorized data\n",
    "df_data_st.hist(figsize=(30,30))"
   ]
  },
  {
   "cell_type": "markdown",
   "metadata": {},
   "source": [
    "Which features will you use to make your predictions? Looking at a correlation matrix might help: df_date.corr gives a correlation matrix of the dataframe. Other feature selection approaches are also fine. Explain your choices.  "
   ]
  },
  {
   "cell_type": "code",
   "execution_count": 20,
   "metadata": {},
   "outputs": [
    {
     "data": {
      "text/html": [
       "<div>\n",
       "<style scoped>\n",
       "    .dataframe tbody tr th:only-of-type {\n",
       "        vertical-align: middle;\n",
       "    }\n",
       "\n",
       "    .dataframe tbody tr th {\n",
       "        vertical-align: top;\n",
       "    }\n",
       "\n",
       "    .dataframe thead th {\n",
       "        text-align: right;\n",
       "    }\n",
       "</style>\n",
       "<table border=\"1\" class=\"dataframe\">\n",
       "  <thead>\n",
       "    <tr style=\"text-align: right;\">\n",
       "      <th></th>\n",
       "      <th>Revenue</th>\n",
       "      <th>Revenue Growth</th>\n",
       "      <th>Cost of Revenue</th>\n",
       "      <th>Gross Profit</th>\n",
       "      <th>R&amp;D Expenses</th>\n",
       "      <th>SG&amp;A Expense</th>\n",
       "      <th>Operating Expenses</th>\n",
       "      <th>Operating Income</th>\n",
       "      <th>Interest Expense</th>\n",
       "      <th>Earnings before Tax</th>\n",
       "      <th>Income Tax Expense</th>\n",
       "      <th>Class</th>\n",
       "    </tr>\n",
       "  </thead>\n",
       "  <tbody>\n",
       "    <tr>\n",
       "      <th>Revenue</th>\n",
       "      <td>1.0000</td>\n",
       "      <td>-0.0387</td>\n",
       "      <td>0.8715</td>\n",
       "      <td>0.8814</td>\n",
       "      <td>0.2512</td>\n",
       "      <td>0.7928</td>\n",
       "      <td>NaN</td>\n",
       "      <td>0.8381</td>\n",
       "      <td>0.6495</td>\n",
       "      <td>0.8056</td>\n",
       "      <td>0.7932</td>\n",
       "      <td>-0.0072</td>\n",
       "    </tr>\n",
       "    <tr>\n",
       "      <th>Revenue Growth</th>\n",
       "      <td>-0.0387</td>\n",
       "      <td>1.0000</td>\n",
       "      <td>0.0297</td>\n",
       "      <td>-0.0232</td>\n",
       "      <td>0.2443</td>\n",
       "      <td>-0.0151</td>\n",
       "      <td>NaN</td>\n",
       "      <td>-0.0038</td>\n",
       "      <td>0.0511</td>\n",
       "      <td>0.0480</td>\n",
       "      <td>0.0149</td>\n",
       "      <td>0.0323</td>\n",
       "    </tr>\n",
       "    <tr>\n",
       "      <th>Cost of Revenue</th>\n",
       "      <td>0.8715</td>\n",
       "      <td>0.0297</td>\n",
       "      <td>1.0000</td>\n",
       "      <td>0.7325</td>\n",
       "      <td>0.3029</td>\n",
       "      <td>0.6646</td>\n",
       "      <td>NaN</td>\n",
       "      <td>0.7010</td>\n",
       "      <td>0.6522</td>\n",
       "      <td>0.6859</td>\n",
       "      <td>0.6853</td>\n",
       "      <td>-0.0172</td>\n",
       "    </tr>\n",
       "    <tr>\n",
       "      <th>Gross Profit</th>\n",
       "      <td>0.8814</td>\n",
       "      <td>-0.0232</td>\n",
       "      <td>0.7325</td>\n",
       "      <td>1.0000</td>\n",
       "      <td>0.2892</td>\n",
       "      <td>0.8483</td>\n",
       "      <td>NaN</td>\n",
       "      <td>0.8987</td>\n",
       "      <td>0.6642</td>\n",
       "      <td>0.8611</td>\n",
       "      <td>0.8329</td>\n",
       "      <td>0.0125</td>\n",
       "    </tr>\n",
       "    <tr>\n",
       "      <th>R&amp;D Expenses</th>\n",
       "      <td>0.2512</td>\n",
       "      <td>0.2443</td>\n",
       "      <td>0.3029</td>\n",
       "      <td>0.2892</td>\n",
       "      <td>1.0000</td>\n",
       "      <td>0.2824</td>\n",
       "      <td>NaN</td>\n",
       "      <td>0.2600</td>\n",
       "      <td>0.2197</td>\n",
       "      <td>0.3108</td>\n",
       "      <td>0.2572</td>\n",
       "      <td>0.0316</td>\n",
       "    </tr>\n",
       "    <tr>\n",
       "      <th>SG&amp;A Expense</th>\n",
       "      <td>0.7928</td>\n",
       "      <td>-0.0151</td>\n",
       "      <td>0.6646</td>\n",
       "      <td>0.8483</td>\n",
       "      <td>0.2824</td>\n",
       "      <td>1.0000</td>\n",
       "      <td>NaN</td>\n",
       "      <td>0.7170</td>\n",
       "      <td>0.4971</td>\n",
       "      <td>0.7085</td>\n",
       "      <td>0.7195</td>\n",
       "      <td>0.0430</td>\n",
       "    </tr>\n",
       "    <tr>\n",
       "      <th>Operating Expenses</th>\n",
       "      <td>NaN</td>\n",
       "      <td>NaN</td>\n",
       "      <td>NaN</td>\n",
       "      <td>NaN</td>\n",
       "      <td>NaN</td>\n",
       "      <td>NaN</td>\n",
       "      <td>NaN</td>\n",
       "      <td>NaN</td>\n",
       "      <td>NaN</td>\n",
       "      <td>NaN</td>\n",
       "      <td>NaN</td>\n",
       "      <td>NaN</td>\n",
       "    </tr>\n",
       "    <tr>\n",
       "      <th>Operating Income</th>\n",
       "      <td>0.8381</td>\n",
       "      <td>-0.0038</td>\n",
       "      <td>0.7010</td>\n",
       "      <td>0.8987</td>\n",
       "      <td>0.2600</td>\n",
       "      <td>0.7170</td>\n",
       "      <td>NaN</td>\n",
       "      <td>1.0000</td>\n",
       "      <td>0.6666</td>\n",
       "      <td>0.9345</td>\n",
       "      <td>0.8786</td>\n",
       "      <td>0.0005</td>\n",
       "    </tr>\n",
       "    <tr>\n",
       "      <th>Interest Expense</th>\n",
       "      <td>0.6495</td>\n",
       "      <td>0.0511</td>\n",
       "      <td>0.6522</td>\n",
       "      <td>0.6642</td>\n",
       "      <td>0.2197</td>\n",
       "      <td>0.4971</td>\n",
       "      <td>NaN</td>\n",
       "      <td>0.6666</td>\n",
       "      <td>1.0000</td>\n",
       "      <td>0.5890</td>\n",
       "      <td>0.5507</td>\n",
       "      <td>-0.0316</td>\n",
       "    </tr>\n",
       "    <tr>\n",
       "      <th>Earnings before Tax</th>\n",
       "      <td>0.8056</td>\n",
       "      <td>0.0480</td>\n",
       "      <td>0.6859</td>\n",
       "      <td>0.8611</td>\n",
       "      <td>0.3108</td>\n",
       "      <td>0.7085</td>\n",
       "      <td>NaN</td>\n",
       "      <td>0.9345</td>\n",
       "      <td>0.5890</td>\n",
       "      <td>1.0000</td>\n",
       "      <td>0.8899</td>\n",
       "      <td>0.0098</td>\n",
       "    </tr>\n",
       "    <tr>\n",
       "      <th>Income Tax Expense</th>\n",
       "      <td>0.7932</td>\n",
       "      <td>0.0149</td>\n",
       "      <td>0.6853</td>\n",
       "      <td>0.8329</td>\n",
       "      <td>0.2572</td>\n",
       "      <td>0.7195</td>\n",
       "      <td>NaN</td>\n",
       "      <td>0.8786</td>\n",
       "      <td>0.5507</td>\n",
       "      <td>0.8899</td>\n",
       "      <td>1.0000</td>\n",
       "      <td>0.0026</td>\n",
       "    </tr>\n",
       "    <tr>\n",
       "      <th>Class</th>\n",
       "      <td>-0.0072</td>\n",
       "      <td>0.0323</td>\n",
       "      <td>-0.0172</td>\n",
       "      <td>0.0125</td>\n",
       "      <td>0.0316</td>\n",
       "      <td>0.0430</td>\n",
       "      <td>NaN</td>\n",
       "      <td>0.0005</td>\n",
       "      <td>-0.0316</td>\n",
       "      <td>0.0098</td>\n",
       "      <td>0.0026</td>\n",
       "      <td>1.0000</td>\n",
       "    </tr>\n",
       "  </tbody>\n",
       "</table>\n",
       "</div>"
      ],
      "text/plain": [
       "                     Revenue  Revenue Growth  Cost of Revenue  Gross Profit  \\\n",
       "Revenue               1.0000         -0.0387           0.8715        0.8814   \n",
       "Revenue Growth       -0.0387          1.0000           0.0297       -0.0232   \n",
       "Cost of Revenue       0.8715          0.0297           1.0000        0.7325   \n",
       "Gross Profit          0.8814         -0.0232           0.7325        1.0000   \n",
       "R&D Expenses          0.2512          0.2443           0.3029        0.2892   \n",
       "SG&A Expense          0.7928         -0.0151           0.6646        0.8483   \n",
       "Operating Expenses       NaN             NaN              NaN           NaN   \n",
       "Operating Income      0.8381         -0.0038           0.7010        0.8987   \n",
       "Interest Expense      0.6495          0.0511           0.6522        0.6642   \n",
       "Earnings before Tax   0.8056          0.0480           0.6859        0.8611   \n",
       "Income Tax Expense    0.7932          0.0149           0.6853        0.8329   \n",
       "Class                -0.0072          0.0323          -0.0172        0.0125   \n",
       "\n",
       "                     R&D Expenses  SG&A Expense  Operating Expenses  \\\n",
       "Revenue                    0.2512        0.7928                 NaN   \n",
       "Revenue Growth             0.2443       -0.0151                 NaN   \n",
       "Cost of Revenue            0.3029        0.6646                 NaN   \n",
       "Gross Profit               0.2892        0.8483                 NaN   \n",
       "R&D Expenses               1.0000        0.2824                 NaN   \n",
       "SG&A Expense               0.2824        1.0000                 NaN   \n",
       "Operating Expenses            NaN           NaN                 NaN   \n",
       "Operating Income           0.2600        0.7170                 NaN   \n",
       "Interest Expense           0.2197        0.4971                 NaN   \n",
       "Earnings before Tax        0.3108        0.7085                 NaN   \n",
       "Income Tax Expense         0.2572        0.7195                 NaN   \n",
       "Class                      0.0316        0.0430                 NaN   \n",
       "\n",
       "                     Operating Income  Interest Expense  Earnings before Tax  \\\n",
       "Revenue                        0.8381            0.6495               0.8056   \n",
       "Revenue Growth                -0.0038            0.0511               0.0480   \n",
       "Cost of Revenue                0.7010            0.6522               0.6859   \n",
       "Gross Profit                   0.8987            0.6642               0.8611   \n",
       "R&D Expenses                   0.2600            0.2197               0.3108   \n",
       "SG&A Expense                   0.7170            0.4971               0.7085   \n",
       "Operating Expenses                NaN               NaN                  NaN   \n",
       "Operating Income               1.0000            0.6666               0.9345   \n",
       "Interest Expense               0.6666            1.0000               0.5890   \n",
       "Earnings before Tax            0.9345            0.5890               1.0000   \n",
       "Income Tax Expense             0.8786            0.5507               0.8899   \n",
       "Class                          0.0005           -0.0316               0.0098   \n",
       "\n",
       "                     Income Tax Expense   Class  \n",
       "Revenue                          0.7932 -0.0072  \n",
       "Revenue Growth                   0.0149  0.0323  \n",
       "Cost of Revenue                  0.6853 -0.0172  \n",
       "Gross Profit                     0.8329  0.0125  \n",
       "R&D Expenses                     0.2572  0.0316  \n",
       "SG&A Expense                     0.7195  0.0430  \n",
       "Operating Expenses                  NaN     NaN  \n",
       "Operating Income                 0.8786  0.0005  \n",
       "Interest Expense                 0.5507 -0.0316  \n",
       "Earnings before Tax              0.8899  0.0098  \n",
       "Income Tax Expense               1.0000  0.0026  \n",
       "Class                            0.0026  1.0000  "
      ]
     },
     "execution_count": 20,
     "metadata": {},
     "output_type": "execute_result"
    }
   ],
   "source": [
    "corr_matrix = df_data_st.corr()\n",
    "corr_matrix.round(decimals=4)"
   ]
  },
  {
   "cell_type": "markdown",
   "metadata": {},
   "source": [
    "- We want to predict class so we would take the features with the highest absolute correlation value. Based on this assumption the features we chose are: SG&A Expense, Revenue Growth, R&D expense, Interest Expense"
   ]
  },
  {
   "cell_type": "markdown",
   "metadata": {},
   "source": [
    "Why should you make a training and a test set?"
   ]
  },
  {
   "cell_type": "markdown",
   "metadata": {},
   "source": [
    "- We create a model and optimize the algorithm based on a training set. However, the model could be biased towards the training set and does not work on other data sets. Therefore, we use a test set on the created model, which is based on the training set, to get a unbiased evaluation of that the model."
   ]
  },
  {
   "cell_type": "markdown",
   "metadata": {},
   "source": [
    "Make a training and test set. Describe briefly what parameters these sets have: how many observations in both sets?"
   ]
  },
  {
   "cell_type": "markdown",
   "metadata": {},
   "source": [
    "- We need to split the data in 80/20 where 80% is the training set and 20% is the test set."
   ]
  },
  {
   "cell_type": "code",
   "execution_count": 84,
   "metadata": {},
   "outputs": [],
   "source": [
    "#Preparing the data by creating x and y variables. Our x variables are the features explained above, and y or target variable is class.\n",
    "using_columns= ['Interest Expense','R&D Expenses','SG&A Expense','Revenue Growth']\n",
    "x=df_data_st[using_columns]\n",
    "y=df_data_st['Class']"
   ]
  },
  {
   "cell_type": "code",
   "execution_count": 87,
   "metadata": {},
   "outputs": [],
   "source": [
    "#Split the data into training and test set (both x and y variables)\n",
    "x_train,x_test,y_train,y_test=train_test_split(x,y,test_size=0.20,random_state=25)"
   ]
  },
  {
   "cell_type": "markdown",
   "metadata": {},
   "source": [
    "# Question 2\n",
    "(10 points)\n",
    "\n",
    "Estimate a Logistic regression model with the target variable 'class'. Use the User Guide of Scikit-learn for the syntax and the training set of the previous question. What are the estimated coefficients? "
   ]
  },
  {
   "cell_type": "code",
   "execution_count": 88,
   "metadata": {},
   "outputs": [],
   "source": [
    "logit_model=LogisticRegression()"
   ]
  },
  {
   "cell_type": "code",
   "execution_count": 89,
   "metadata": {},
   "outputs": [
    {
     "data": {
      "text/plain": [
       "LogisticRegression()"
      ]
     },
     "execution_count": 89,
     "metadata": {},
     "output_type": "execute_result"
    }
   ],
   "source": [
    "logit_model.fit(x_train,y_train)"
   ]
  },
  {
   "cell_type": "code",
   "execution_count": 90,
   "metadata": {},
   "outputs": [
    {
     "data": {
      "text/plain": [
       "array([-0.17606751])"
      ]
     },
     "execution_count": 90,
     "metadata": {},
     "output_type": "execute_result"
    }
   ],
   "source": [
    "logit_model.intercept_"
   ]
  },
  {
   "cell_type": "code",
   "execution_count": 91,
   "metadata": {
    "scrolled": true
   },
   "outputs": [
    {
     "data": {
      "text/plain": [
       "array([[-1.25954903,  0.45065999,  1.19615401]])"
      ]
     },
     "execution_count": 91,
     "metadata": {},
     "output_type": "execute_result"
    }
   ],
   "source": [
    "logit_model.coef_"
   ]
  },
  {
   "cell_type": "markdown",
   "metadata": {},
   "source": [
    "- Coefficients estimated in the logistic regression can only be interpreted by sign (positive/negative) and not the magnitude."
   ]
  },
  {
   "cell_type": "code",
   "execution_count": 97,
   "metadata": {},
   "outputs": [],
   "source": [
    "# logit_model.score(x_train,y_train)"
   ]
  },
  {
   "cell_type": "code",
   "execution_count": 96,
   "metadata": {},
   "outputs": [],
   "source": [
    "# logit_roc_auc = roc_auc_score(y_test, logit_model.predict(x_test))\n",
    "# fpr, tpr, thresholds = roc_curve(y_test, logit_model.predict_proba(x_test)[:,1])\n",
    "# plt.figure()\n",
    "# plt.plot(fpr, tpr, label='Logistic Regression (area = %0.2f)' % logit_roc_auc)\n",
    "# plt.plot([0, 1], [0, 1],'r--')\n",
    "# plt.xlim([0.0, 1.0])\n",
    "# plt.ylim([0.0, 1.05])\n",
    "# plt.xlabel('False Positive Rate')\n",
    "# plt.ylabel('True Positive Rate')\n",
    "# plt.title('Receiver operating characteristic')\n",
    "# plt.legend(loc=\"lower right\")\n",
    "# plt.show()"
   ]
  },
  {
   "cell_type": "markdown",
   "metadata": {},
   "source": [
    "---"
   ]
  },
  {
   "cell_type": "markdown",
   "metadata": {},
   "source": [
    "# Question 3\n",
    "(30 points)\n",
    "\n",
    "Make predictions for the test set. "
   ]
  },
  {
   "cell_type": "code",
   "execution_count": 35,
   "metadata": {},
   "outputs": [],
   "source": [
    "y_pred=logit_model.predict(x_test)"
   ]
  },
  {
   "cell_type": "code",
   "execution_count": 36,
   "metadata": {},
   "outputs": [
    {
     "data": {
      "text/plain": [
       "array([[426,  24],\n",
       "       [298,  14]])"
      ]
     },
     "execution_count": 36,
     "metadata": {},
     "output_type": "execute_result"
    }
   ],
   "source": [
    "cnf_matrix = metrics.confusion_matrix(y_test, y_pred)\n",
    "cnf_matrix"
   ]
  },
  {
   "cell_type": "code",
   "execution_count": 37,
   "metadata": {
    "scrolled": false
   },
   "outputs": [
    {
     "data": {
      "text/plain": [
       "Text(0.5, 257.44, 'Predicted label')"
      ]
     },
     "execution_count": 37,
     "metadata": {},
     "output_type": "execute_result"
    },
    {
     "data": {
      "image/png": "[encoded data removed]",
      "text/plain": [
       "<Figure size 432x288 with 2 Axes>"
      ]
     },
     "metadata": {
      "needs_background": "light"
     },
     "output_type": "display_data"
    }
   ],
   "source": [
    "class_names=[0,1] # name  of classes\n",
    "fig, ax = plt.subplots()\n",
    "tick_marks = np.arange(len(class_names))\n",
    "plt.xticks(tick_marks, class_names)\n",
    "plt.yticks(tick_marks, class_names)\n",
    "# create heatmap\n",
    "sns.heatmap(pd.DataFrame(cnf_matrix), annot=True, cmap=\"YlGnBu\" ,fmt='g')\n",
    "ax.xaxis.set_label_position(\"top\")\n",
    "plt.tight_layout()\n",
    "plt.title('Confusion matrix', y=1.1)\n",
    "plt.ylabel('Actual label')\n",
    "plt.xlabel('Predicted label')"
   ]
  },
  {
   "cell_type": "code",
   "execution_count": 98,
   "metadata": {
    "scrolled": true
   },
   "outputs": [
    {
     "data": {
      "image/png": "[encoded data removed]",
      "text/plain": [
       "<Figure size 432x288 with 1 Axes>"
      ]
     },
     "metadata": {
      "needs_background": "light"
     },
     "output_type": "display_data"
    }
   ],
   "source": [
    "logit_roc_auc = roc_auc_score(y_test, logit_model.predict(x_test))\n",
    "fpr, tpr, thresholds = roc_curve(y_test, logit_model.predict_proba(x_test)[:,1])\n",
    "plt.figure()\n",
    "plt.plot(fpr, tpr, label='Logistic Regression (area = %0.2f)' % logit_roc_auc)\n",
    "plt.plot([0, 1], [0, 1],'r--')\n",
    "plt.xlim([0.0, 1.0])\n",
    "plt.ylim([0.0, 1.05])\n",
    "plt.xlabel('False Positive Rate')\n",
    "plt.ylabel('True Positive Rate')\n",
    "plt.title('Receiver operating characteristic')\n",
    "plt.legend(loc=\"lower right\")\n",
    "plt.show()"
   ]
  },
  {
   "cell_type": "code",
   "execution_count": 100,
   "metadata": {},
   "outputs": [
    {
     "name": "stdout",
     "output_type": "stream",
     "text": [
      "Accuracy: 0.5774278215223098\n",
      "Precision: 0.3684210526315789\n",
      "Recall: 0.04487179487179487\n"
     ]
    }
   ],
   "source": [
    "print(\"Accuracy:\",metrics.accuracy_score(y_test, y_pred))\n",
    "print(\"Precision:\",metrics.precision_score(y_test, y_pred))\n",
    "print(\"Recall:\",metrics.recall_score(y_test, y_pred))"
   ]
  },
  {
   "cell_type": "markdown",
   "metadata": {},
   "source": [
    "Discuss the results in terms of investment advice: would you put your money on your algorithm?"
   ]
  },
  {
   "cell_type": "markdown",
   "metadata": {},
   "source": [
    "- Answer: No, because the model is not very accurate at predicting a good stock to invest in.\n",
    "Moreover, the model predicts a lot of false positive, which further discourages the usage \n",
    "of this model in real life decisions. \n",
    "- By the ROC out of sample curve we can see that model is better than random walk."
   ]
  },
  {
   "cell_type": "markdown",
   "metadata": {},
   "source": [
    "Feature engineering can also be helpful to make better predictions. Define at least 2 new features with the features given in the dataset. \n"
   ]
  },
  {
   "cell_type": "markdown",
   "metadata": {},
   "source": [
    "Good features for estimating whether an investment in given stock is a good idea or not are financial ratios. With the data provided in the intial data set we can calculate ratios which will help to make an investment decision. The calculated ratios are operating margin and profit margin."
   ]
  },
  {
   "cell_type": "code",
   "execution_count": 103,
   "metadata": {},
   "outputs": [],
   "source": [
    "df_data_q3 = pd.read_excel(path)\n",
    "df_data_q3['NI'] = df_data_q3['Earnings before Tax'] - df_data_q3['Income Tax Expense']\n",
    "df_data_q3['Gross margin']= df_data_q3['Revenue'] - df_data_q3['Cost of Revenue']\n",
    "df_data_q3['Profit_margin'] = df_data_q3['NI']/df_data_q3['Revenue']\n",
    "df_data_q3['Operating_earnings'] = df_data_q3['Revenue'] - df_data_q3['Cost of Revenue'] - df_data_q3['R&D Expenses']- df_data_q3['SG&A Expense'] - df_data_q3['Operating Expenses']\n",
    "df_data_q3['Operating_margin'] = df_data_q3['Operating_earnings']/df_data_q3['Revenue']\n",
    "ratios = df_data_q3[['Profit_margin','Operating_margin']]"
   ]
  },
  {
   "cell_type": "markdown",
   "metadata": {},
   "source": [
    "- Because we use raw data, including outliers, to calculate these ratios, we winsorized it to fit the rest of the winsorized data."
   ]
  },
  {
   "cell_type": "code",
   "execution_count": 104,
   "metadata": {
    "scrolled": false
   },
   "outputs": [],
   "source": [
    "#Windsorizing ratios\n",
    "ratios_w = using_mstats_df(ratios)"
   ]
  },
  {
   "cell_type": "code",
   "execution_count": 105,
   "metadata": {},
   "outputs": [],
   "source": [
    "df_data_q3 = ratios_w.merge(df_data_st, left_index=True, right_index=True)"
   ]
  },
  {
   "cell_type": "markdown",
   "metadata": {},
   "source": [
    "Use the new features and rerun the classification. Does the new features improve the predictions? Is it possible that it does worse? Please explain."
   ]
  },
  {
   "cell_type": "code",
   "execution_count": 111,
   "metadata": {},
   "outputs": [],
   "source": [
    "using_columns_q3 = ['Interest Expense','R&D Expenses','SG&A Expense','Profit_margin','Operating_margin', 'Revenue Growth']\n",
    "x_q3 = df_data_q3[using_columns_q3]\n",
    "y_q3 = df_data_q3['Class']\n",
    "x_train_q3,x_test_q3,y_train_q3,y_test_q3=train_test_split(x_q3,y_q3,test_size=0.20,random_state=25)"
   ]
  },
  {
   "cell_type": "code",
   "execution_count": 112,
   "metadata": {},
   "outputs": [],
   "source": [
    "logit_model_q3=LogisticRegression()"
   ]
  },
  {
   "cell_type": "code",
   "execution_count": 113,
   "metadata": {},
   "outputs": [
    {
     "data": {
      "text/plain": [
       "LogisticRegression()"
      ]
     },
     "execution_count": 113,
     "metadata": {},
     "output_type": "execute_result"
    }
   ],
   "source": [
    "logit_model_q3.fit(x_train_q3,y_train_q3)"
   ]
  },
  {
   "cell_type": "code",
   "execution_count": 114,
   "metadata": {},
   "outputs": [
    {
     "data": {
      "text/plain": [
       "array([-0.31594712])"
      ]
     },
     "execution_count": 114,
     "metadata": {},
     "output_type": "execute_result"
    }
   ],
   "source": [
    "logit_model_q3.intercept_"
   ]
  },
  {
   "cell_type": "code",
   "execution_count": 115,
   "metadata": {},
   "outputs": [
    {
     "data": {
      "text/plain": [
       "array([[-1.04647333,  0.51315495,  0.73786977,  1.28371939, -0.45964056,\n",
       "        -0.00232232]])"
      ]
     },
     "execution_count": 115,
     "metadata": {},
     "output_type": "execute_result"
    }
   ],
   "source": [
    "logit_model_q3.coef_"
   ]
  },
  {
   "cell_type": "code",
   "execution_count": 116,
   "metadata": {},
   "outputs": [
    {
     "data": {
      "text/plain": [
       "0.5925804333552199"
      ]
     },
     "execution_count": 116,
     "metadata": {},
     "output_type": "execute_result"
    }
   ],
   "source": [
    "logit_model_q3.score(x_train_q3,y_train_q3)"
   ]
  },
  {
   "cell_type": "code",
   "execution_count": 117,
   "metadata": {},
   "outputs": [],
   "source": [
    "y_pred_q3=logit_model_q3.predict(x_test_q3)"
   ]
  },
  {
   "cell_type": "code",
   "execution_count": 118,
   "metadata": {},
   "outputs": [
    {
     "data": {
      "text/plain": [
       "array([[400,  50],\n",
       "       [249,  63]])"
      ]
     },
     "execution_count": 118,
     "metadata": {},
     "output_type": "execute_result"
    }
   ],
   "source": [
    "cnf_matrix_q3 = metrics.confusion_matrix(y_test_q3, y_pred_q3)\n",
    "cnf_matrix_q3"
   ]
  },
  {
   "cell_type": "code",
   "execution_count": 119,
   "metadata": {},
   "outputs": [
    {
     "data": {
      "text/plain": [
       "Text(0.5, 257.44, 'Predicted label')"
      ]
     },
     "execution_count": 119,
     "metadata": {},
     "output_type": "execute_result"
    },
    {
     "data": {
      "image/png": "[encoded data removed]",
      "text/plain": [
       "<Figure size 432x288 with 2 Axes>"
      ]
     },
     "metadata": {
      "needs_background": "light"
     },
     "output_type": "display_data"
    }
   ],
   "source": [
    "class_names=[0,1] # name  of classes\n",
    "fig, ax = plt.subplots()\n",
    "tick_marks = np.arange(len(class_names))\n",
    "plt.xticks(tick_marks, class_names)\n",
    "plt.yticks(tick_marks, class_names)\n",
    "# create heatmap\n",
    "sns.heatmap(pd.DataFrame(cnf_matrix_q3), annot=True, cmap=\"YlGnBu\" ,fmt='g')\n",
    "ax.xaxis.set_label_position(\"top\")\n",
    "plt.tight_layout()\n",
    "plt.title('Confusion matrix', y=1.1)\n",
    "plt.ylabel('Actual label')\n",
    "plt.xlabel('Predicted label')"
   ]
  },
  {
   "cell_type": "code",
   "execution_count": 120,
   "metadata": {},
   "outputs": [
    {
     "name": "stdout",
     "output_type": "stream",
     "text": [
      "Accuracy: 0.6076115485564304\n",
      "Precision: 0.5575221238938053\n",
      "Recall: 0.20192307692307693\n"
     ]
    }
   ],
   "source": [
    "print(\"Accuracy:\",metrics.accuracy_score(y_test_q3, y_pred_q3))\n",
    "print(\"Precision:\",metrics.precision_score(y_test_q3, y_pred_q3))\n",
    "print(\"Recall:\",metrics.recall_score(y_test_q3, y_pred_q3))"
   ]
  },
  {
   "cell_type": "code",
   "execution_count": 121,
   "metadata": {
    "scrolled": true
   },
   "outputs": [
    {
     "data": {
      "image/png": "[encoded data removed]",
      "text/plain": [
       "<Figure size 432x288 with 1 Axes>"
      ]
     },
     "metadata": {
      "needs_background": "light"
     },
     "output_type": "display_data"
    }
   ],
   "source": [
    "logit_roc_auc = roc_auc_score(y_test, logit_model_q3.predict(x_test_q3))\n",
    "fpr, tpr, thresholds = roc_curve(y_test, logit_model_q3.predict_proba(x_test_q3)[:,1])\n",
    "plt.figure()\n",
    "plt.plot(fpr, tpr, label='Logistic Regression (area = %0.2f)' % logit_roc_auc)\n",
    "plt.plot([0, 1], [0, 1],'r--')\n",
    "plt.xlim([0.0, 1.0])\n",
    "plt.ylim([0.0, 1.05])\n",
    "plt.xlabel('False Positive Rate')\n",
    "plt.ylabel('True Positive Rate')\n",
    "plt.title('Receiver operating characteristic')\n",
    "plt.legend(loc=\"lower right\")\n",
    "plt.show()"
   ]
  },
  {
   "cell_type": "markdown",
   "metadata": {},
   "source": [
    "- Using additional features improves the accuaracy of the model. This is largely due to the higher number of the true negatives predicted and also a decrease of false positives. There is however an increase in the false negatives and a decrease in true positives. Moreover, there is correlation present in the model between the newly introduced features, as they are both based on the Revenues indirectly. "
   ]
  },
  {
   "cell_type": "code",
   "execution_count": 122,
   "metadata": {},
   "outputs": [
    {
     "data": {
      "text/html": [
       "<div>\n",
       "<style scoped>\n",
       "    .dataframe tbody tr th:only-of-type {\n",
       "        vertical-align: middle;\n",
       "    }\n",
       "\n",
       "    .dataframe tbody tr th {\n",
       "        vertical-align: top;\n",
       "    }\n",
       "\n",
       "    .dataframe thead th {\n",
       "        text-align: right;\n",
       "    }\n",
       "</style>\n",
       "<table border=\"1\" class=\"dataframe\">\n",
       "  <thead>\n",
       "    <tr style=\"text-align: right;\">\n",
       "      <th></th>\n",
       "      <th>Profit_margin</th>\n",
       "      <th>Operating_margin</th>\n",
       "      <th>Revenue</th>\n",
       "      <th>Revenue Growth</th>\n",
       "      <th>Cost of Revenue</th>\n",
       "      <th>Gross Profit</th>\n",
       "      <th>R&amp;D Expenses</th>\n",
       "      <th>SG&amp;A Expense</th>\n",
       "      <th>Operating Expenses</th>\n",
       "      <th>Operating Income</th>\n",
       "      <th>Interest Expense</th>\n",
       "      <th>Earnings before Tax</th>\n",
       "      <th>Income Tax Expense</th>\n",
       "      <th>Class</th>\n",
       "    </tr>\n",
       "  </thead>\n",
       "  <tbody>\n",
       "    <tr>\n",
       "      <th>Profit_margin</th>\n",
       "      <td>1.0000</td>\n",
       "      <td>0.9176</td>\n",
       "      <td>0.2434</td>\n",
       "      <td>-0.0097</td>\n",
       "      <td>0.2164</td>\n",
       "      <td>0.2687</td>\n",
       "      <td>0.0195</td>\n",
       "      <td>0.2424</td>\n",
       "      <td>NaN</td>\n",
       "      <td>0.2888</td>\n",
       "      <td>0.2123</td>\n",
       "      <td>0.3010</td>\n",
       "      <td>0.2638</td>\n",
       "      <td>0.1092</td>\n",
       "    </tr>\n",
       "    <tr>\n",
       "      <th>Operating_margin</th>\n",
       "      <td>0.9176</td>\n",
       "      <td>1.0000</td>\n",
       "      <td>0.2832</td>\n",
       "      <td>-0.0056</td>\n",
       "      <td>0.2869</td>\n",
       "      <td>0.2769</td>\n",
       "      <td>0.0156</td>\n",
       "      <td>0.2273</td>\n",
       "      <td>NaN</td>\n",
       "      <td>0.3034</td>\n",
       "      <td>0.2836</td>\n",
       "      <td>0.2925</td>\n",
       "      <td>0.2675</td>\n",
       "      <td>0.0637</td>\n",
       "    </tr>\n",
       "    <tr>\n",
       "      <th>Revenue</th>\n",
       "      <td>0.2434</td>\n",
       "      <td>0.2832</td>\n",
       "      <td>1.0000</td>\n",
       "      <td>-0.0387</td>\n",
       "      <td>0.8715</td>\n",
       "      <td>0.8814</td>\n",
       "      <td>0.2512</td>\n",
       "      <td>0.7928</td>\n",
       "      <td>NaN</td>\n",
       "      <td>0.8381</td>\n",
       "      <td>0.6495</td>\n",
       "      <td>0.8056</td>\n",
       "      <td>0.7932</td>\n",
       "      <td>-0.0072</td>\n",
       "    </tr>\n",
       "    <tr>\n",
       "      <th>Revenue Growth</th>\n",
       "      <td>-0.0097</td>\n",
       "      <td>-0.0056</td>\n",
       "      <td>-0.0387</td>\n",
       "      <td>1.0000</td>\n",
       "      <td>0.0297</td>\n",
       "      <td>-0.0232</td>\n",
       "      <td>0.2443</td>\n",
       "      <td>-0.0151</td>\n",
       "      <td>NaN</td>\n",
       "      <td>-0.0038</td>\n",
       "      <td>0.0511</td>\n",
       "      <td>0.0480</td>\n",
       "      <td>0.0149</td>\n",
       "      <td>0.0323</td>\n",
       "    </tr>\n",
       "    <tr>\n",
       "      <th>Cost of Revenue</th>\n",
       "      <td>0.2164</td>\n",
       "      <td>0.2869</td>\n",
       "      <td>0.8715</td>\n",
       "      <td>0.0297</td>\n",
       "      <td>1.0000</td>\n",
       "      <td>0.7325</td>\n",
       "      <td>0.3029</td>\n",
       "      <td>0.6646</td>\n",
       "      <td>NaN</td>\n",
       "      <td>0.7010</td>\n",
       "      <td>0.6522</td>\n",
       "      <td>0.6859</td>\n",
       "      <td>0.6853</td>\n",
       "      <td>-0.0172</td>\n",
       "    </tr>\n",
       "    <tr>\n",
       "      <th>Gross Profit</th>\n",
       "      <td>0.2687</td>\n",
       "      <td>0.2769</td>\n",
       "      <td>0.8814</td>\n",
       "      <td>-0.0232</td>\n",
       "      <td>0.7325</td>\n",
       "      <td>1.0000</td>\n",
       "      <td>0.2892</td>\n",
       "      <td>0.8483</td>\n",
       "      <td>NaN</td>\n",
       "      <td>0.8987</td>\n",
       "      <td>0.6642</td>\n",
       "      <td>0.8611</td>\n",
       "      <td>0.8329</td>\n",
       "      <td>0.0125</td>\n",
       "    </tr>\n",
       "    <tr>\n",
       "      <th>R&amp;D Expenses</th>\n",
       "      <td>0.0195</td>\n",
       "      <td>0.0156</td>\n",
       "      <td>0.2512</td>\n",
       "      <td>0.2443</td>\n",
       "      <td>0.3029</td>\n",
       "      <td>0.2892</td>\n",
       "      <td>1.0000</td>\n",
       "      <td>0.2824</td>\n",
       "      <td>NaN</td>\n",
       "      <td>0.2600</td>\n",
       "      <td>0.2197</td>\n",
       "      <td>0.3108</td>\n",
       "      <td>0.2572</td>\n",
       "      <td>0.0316</td>\n",
       "    </tr>\n",
       "    <tr>\n",
       "      <th>SG&amp;A Expense</th>\n",
       "      <td>0.2424</td>\n",
       "      <td>0.2273</td>\n",
       "      <td>0.7928</td>\n",
       "      <td>-0.0151</td>\n",
       "      <td>0.6646</td>\n",
       "      <td>0.8483</td>\n",
       "      <td>0.2824</td>\n",
       "      <td>1.0000</td>\n",
       "      <td>NaN</td>\n",
       "      <td>0.7170</td>\n",
       "      <td>0.4971</td>\n",
       "      <td>0.7085</td>\n",
       "      <td>0.7195</td>\n",
       "      <td>0.0430</td>\n",
       "    </tr>\n",
       "    <tr>\n",
       "      <th>Operating Expenses</th>\n",
       "      <td>NaN</td>\n",
       "      <td>NaN</td>\n",
       "      <td>NaN</td>\n",
       "      <td>NaN</td>\n",
       "      <td>NaN</td>\n",
       "      <td>NaN</td>\n",
       "      <td>NaN</td>\n",
       "      <td>NaN</td>\n",
       "      <td>NaN</td>\n",
       "      <td>NaN</td>\n",
       "      <td>NaN</td>\n",
       "      <td>NaN</td>\n",
       "      <td>NaN</td>\n",
       "      <td>NaN</td>\n",
       "    </tr>\n",
       "    <tr>\n",
       "      <th>Operating Income</th>\n",
       "      <td>0.2888</td>\n",
       "      <td>0.3034</td>\n",
       "      <td>0.8381</td>\n",
       "      <td>-0.0038</td>\n",
       "      <td>0.7010</td>\n",
       "      <td>0.8987</td>\n",
       "      <td>0.2600</td>\n",
       "      <td>0.7170</td>\n",
       "      <td>NaN</td>\n",
       "      <td>1.0000</td>\n",
       "      <td>0.6666</td>\n",
       "      <td>0.9345</td>\n",
       "      <td>0.8786</td>\n",
       "      <td>0.0005</td>\n",
       "    </tr>\n",
       "    <tr>\n",
       "      <th>Interest Expense</th>\n",
       "      <td>0.2123</td>\n",
       "      <td>0.2836</td>\n",
       "      <td>0.6495</td>\n",
       "      <td>0.0511</td>\n",
       "      <td>0.6522</td>\n",
       "      <td>0.6642</td>\n",
       "      <td>0.2197</td>\n",
       "      <td>0.4971</td>\n",
       "      <td>NaN</td>\n",
       "      <td>0.6666</td>\n",
       "      <td>1.0000</td>\n",
       "      <td>0.5890</td>\n",
       "      <td>0.5507</td>\n",
       "      <td>-0.0316</td>\n",
       "    </tr>\n",
       "    <tr>\n",
       "      <th>Earnings before Tax</th>\n",
       "      <td>0.3010</td>\n",
       "      <td>0.2925</td>\n",
       "      <td>0.8056</td>\n",
       "      <td>0.0480</td>\n",
       "      <td>0.6859</td>\n",
       "      <td>0.8611</td>\n",
       "      <td>0.3108</td>\n",
       "      <td>0.7085</td>\n",
       "      <td>NaN</td>\n",
       "      <td>0.9345</td>\n",
       "      <td>0.5890</td>\n",
       "      <td>1.0000</td>\n",
       "      <td>0.8899</td>\n",
       "      <td>0.0098</td>\n",
       "    </tr>\n",
       "    <tr>\n",
       "      <th>Income Tax Expense</th>\n",
       "      <td>0.2638</td>\n",
       "      <td>0.2675</td>\n",
       "      <td>0.7932</td>\n",
       "      <td>0.0149</td>\n",
       "      <td>0.6853</td>\n",
       "      <td>0.8329</td>\n",
       "      <td>0.2572</td>\n",
       "      <td>0.7195</td>\n",
       "      <td>NaN</td>\n",
       "      <td>0.8786</td>\n",
       "      <td>0.5507</td>\n",
       "      <td>0.8899</td>\n",
       "      <td>1.0000</td>\n",
       "      <td>0.0026</td>\n",
       "    </tr>\n",
       "    <tr>\n",
       "      <th>Class</th>\n",
       "      <td>0.1092</td>\n",
       "      <td>0.0637</td>\n",
       "      <td>-0.0072</td>\n",
       "      <td>0.0323</td>\n",
       "      <td>-0.0172</td>\n",
       "      <td>0.0125</td>\n",
       "      <td>0.0316</td>\n",
       "      <td>0.0430</td>\n",
       "      <td>NaN</td>\n",
       "      <td>0.0005</td>\n",
       "      <td>-0.0316</td>\n",
       "      <td>0.0098</td>\n",
       "      <td>0.0026</td>\n",
       "      <td>1.0000</td>\n",
       "    </tr>\n",
       "  </tbody>\n",
       "</table>\n",
       "</div>"
      ],
      "text/plain": [
       "                     Profit_margin  Operating_margin  Revenue  Revenue Growth  \\\n",
       "Profit_margin               1.0000            0.9176   0.2434         -0.0097   \n",
       "Operating_margin            0.9176            1.0000   0.2832         -0.0056   \n",
       "Revenue                     0.2434            0.2832   1.0000         -0.0387   \n",
       "Revenue Growth             -0.0097           -0.0056  -0.0387          1.0000   \n",
       "Cost of Revenue             0.2164            0.2869   0.8715          0.0297   \n",
       "Gross Profit                0.2687            0.2769   0.8814         -0.0232   \n",
       "R&D Expenses                0.0195            0.0156   0.2512          0.2443   \n",
       "SG&A Expense                0.2424            0.2273   0.7928         -0.0151   \n",
       "Operating Expenses             NaN               NaN      NaN             NaN   \n",
       "Operating Income            0.2888            0.3034   0.8381         -0.0038   \n",
       "Interest Expense            0.2123            0.2836   0.6495          0.0511   \n",
       "Earnings before Tax         0.3010            0.2925   0.8056          0.0480   \n",
       "Income Tax Expense          0.2638            0.2675   0.7932          0.0149   \n",
       "Class                       0.1092            0.0637  -0.0072          0.0323   \n",
       "\n",
       "                     Cost of Revenue  Gross Profit  R&D Expenses  \\\n",
       "Profit_margin                 0.2164        0.2687        0.0195   \n",
       "Operating_margin              0.2869        0.2769        0.0156   \n",
       "Revenue                       0.8715        0.8814        0.2512   \n",
       "Revenue Growth                0.0297       -0.0232        0.2443   \n",
       "Cost of Revenue               1.0000        0.7325        0.3029   \n",
       "Gross Profit                  0.7325        1.0000        0.2892   \n",
       "R&D Expenses                  0.3029        0.2892        1.0000   \n",
       "SG&A Expense                  0.6646        0.8483        0.2824   \n",
       "Operating Expenses               NaN           NaN           NaN   \n",
       "Operating Income              0.7010        0.8987        0.2600   \n",
       "Interest Expense              0.6522        0.6642        0.2197   \n",
       "Earnings before Tax           0.6859        0.8611        0.3108   \n",
       "Income Tax Expense            0.6853        0.8329        0.2572   \n",
       "Class                        -0.0172        0.0125        0.0316   \n",
       "\n",
       "                     SG&A Expense  Operating Expenses  Operating Income  \\\n",
       "Profit_margin              0.2424                 NaN            0.2888   \n",
       "Operating_margin           0.2273                 NaN            0.3034   \n",
       "Revenue                    0.7928                 NaN            0.8381   \n",
       "Revenue Growth            -0.0151                 NaN           -0.0038   \n",
       "Cost of Revenue            0.6646                 NaN            0.7010   \n",
       "Gross Profit               0.8483                 NaN            0.8987   \n",
       "R&D Expenses               0.2824                 NaN            0.2600   \n",
       "SG&A Expense               1.0000                 NaN            0.7170   \n",
       "Operating Expenses            NaN                 NaN               NaN   \n",
       "Operating Income           0.7170                 NaN            1.0000   \n",
       "Interest Expense           0.4971                 NaN            0.6666   \n",
       "Earnings before Tax        0.7085                 NaN            0.9345   \n",
       "Income Tax Expense         0.7195                 NaN            0.8786   \n",
       "Class                      0.0430                 NaN            0.0005   \n",
       "\n",
       "                     Interest Expense  Earnings before Tax  \\\n",
       "Profit_margin                  0.2123               0.3010   \n",
       "Operating_margin               0.2836               0.2925   \n",
       "Revenue                        0.6495               0.8056   \n",
       "Revenue Growth                 0.0511               0.0480   \n",
       "Cost of Revenue                0.6522               0.6859   \n",
       "Gross Profit                   0.6642               0.8611   \n",
       "R&D Expenses                   0.2197               0.3108   \n",
       "SG&A Expense                   0.4971               0.7085   \n",
       "Operating Expenses                NaN                  NaN   \n",
       "Operating Income               0.6666               0.9345   \n",
       "Interest Expense               1.0000               0.5890   \n",
       "Earnings before Tax            0.5890               1.0000   \n",
       "Income Tax Expense             0.5507               0.8899   \n",
       "Class                         -0.0316               0.0098   \n",
       "\n",
       "                     Income Tax Expense   Class  \n",
       "Profit_margin                    0.2638  0.1092  \n",
       "Operating_margin                 0.2675  0.0637  \n",
       "Revenue                          0.7932 -0.0072  \n",
       "Revenue Growth                   0.0149  0.0323  \n",
       "Cost of Revenue                  0.6853 -0.0172  \n",
       "Gross Profit                     0.8329  0.0125  \n",
       "R&D Expenses                     0.2572  0.0316  \n",
       "SG&A Expense                     0.7195  0.0430  \n",
       "Operating Expenses                  NaN     NaN  \n",
       "Operating Income                 0.8786  0.0005  \n",
       "Interest Expense                 0.5507 -0.0316  \n",
       "Earnings before Tax              0.8899  0.0098  \n",
       "Income Tax Expense               1.0000  0.0026  \n",
       "Class                            0.0026  1.0000  "
      ]
     },
     "execution_count": 122,
     "metadata": {},
     "output_type": "execute_result"
    }
   ],
   "source": [
    "corr_matrix2 = df_data_q3.corr()\n",
    "corr_matrix2.round(decimals=4)"
   ]
  },
  {
   "cell_type": "markdown",
   "metadata": {},
   "source": [
    "# Question 4\n",
    "(10 points)\n",
    "\n",
    "Run the same model as in the previous question but set the tolerance for stopping criteria on 0.01 instead of the default one of 1e-4. Discuss these results in relation to the default: what is different? Why?"
   ]
  },
  {
   "cell_type": "code",
   "execution_count": 58,
   "metadata": {},
   "outputs": [],
   "source": [
    "logit_model_q4= LogisticRegression(tol=0.01)"
   ]
  },
  {
   "cell_type": "code",
   "execution_count": 59,
   "metadata": {},
   "outputs": [
    {
     "data": {
      "text/plain": [
       "LogisticRegression(tol=0.01)"
      ]
     },
     "execution_count": 59,
     "metadata": {},
     "output_type": "execute_result"
    }
   ],
   "source": [
    "logit_model_q4.fit(x_train_q3,y_train_q3)"
   ]
  },
  {
   "cell_type": "code",
   "execution_count": 60,
   "metadata": {},
   "outputs": [
    {
     "data": {
      "text/plain": [
       "array([-0.31599212])"
      ]
     },
     "execution_count": 60,
     "metadata": {},
     "output_type": "execute_result"
    }
   ],
   "source": [
    "logit_model_q3.intercept_"
   ]
  },
  {
   "cell_type": "code",
   "execution_count": 61,
   "metadata": {},
   "outputs": [
    {
     "data": {
      "text/plain": [
       "array([[-1.04648741,  0.51309651,  0.73774641,  1.28368597, -0.45962521]])"
      ]
     },
     "execution_count": 61,
     "metadata": {},
     "output_type": "execute_result"
    }
   ],
   "source": [
    "logit_model_q4.coef_"
   ]
  },
  {
   "cell_type": "code",
   "execution_count": 62,
   "metadata": {},
   "outputs": [
    {
     "data": {
      "text/plain": [
       "0.5925804333552199"
      ]
     },
     "execution_count": 62,
     "metadata": {},
     "output_type": "execute_result"
    }
   ],
   "source": [
    "logit_model_q4.score(x_train_q3,y_train_q3)"
   ]
  },
  {
   "cell_type": "code",
   "execution_count": 63,
   "metadata": {},
   "outputs": [],
   "source": [
    "y_pred_q4=logit_model_q4.predict(x_test_q3)"
   ]
  },
  {
   "cell_type": "code",
   "execution_count": 64,
   "metadata": {},
   "outputs": [
    {
     "data": {
      "image/png": "[encoded data removed]",
      "text/plain": [
       "<Figure size 432x288 with 1 Axes>"
      ]
     },
     "metadata": {
      "needs_background": "light"
     },
     "output_type": "display_data"
    }
   ],
   "source": [
    "logit_roc_auc = roc_auc_score(y_test, logit_model_q4.predict(x_test_q3))\n",
    "fpr, tpr, thresholds = roc_curve(y_test, logit_model_q4.predict_proba(x_test_q3)[:,1])\n",
    "plt.figure()\n",
    "plt.plot(fpr, tpr, label='Logistic Regression (area = %0.2f)' % logit_roc_auc)\n",
    "plt.plot([0, 1], [0, 1],'r--')\n",
    "plt.xlim([0.0, 1.0])\n",
    "plt.ylim([0.0, 1.05])\n",
    "plt.xlabel('False Positive Rate')\n",
    "plt.ylabel('True Positive Rate')\n",
    "plt.title('Receiver operating characteristic')\n",
    "plt.legend(loc=\"lower right\")\n",
    "plt.show()"
   ]
  },
  {
   "cell_type": "code",
   "execution_count": 123,
   "metadata": {},
   "outputs": [
    {
     "name": "stdout",
     "output_type": "stream",
     "text": [
      "Accuracy: 0.6076115485564304\n",
      "Precision: 0.5575221238938053\n",
      "Recall: 0.20192307692307693\n"
     ]
    }
   ],
   "source": [
    "print(\"Accuracy:\",metrics.accuracy_score(y_test_q3, y_pred_q4))\n",
    "print(\"Precision:\",metrics.precision_score(y_test_q3, y_pred_q4))\n",
    "print(\"Recall:\",metrics.recall_score(y_test_q3, y_pred_q4))"
   ]
  },
  {
   "cell_type": "markdown",
   "metadata": {},
   "source": [
    "- The accuracy did not change by using a higher tolerance. A higher tolerance will decrease the number of attempts to get to the global minimum (maximum). The data is standardized and therefore on the same scale. Looking for the global minimum (maximum) on one scale therefore will be achieved faster since the standard deviation is the same everywhere. "
   ]
  },
  {
   "cell_type": "markdown",
   "metadata": {},
   "source": [
    "# Question 5\n",
    "(20 points)\n",
    "\n",
    "Compute the confusion matrix of the model estimated in Question 4.  \n",
    "Compute precision and recall for this case."
   ]
  },
  {
   "cell_type": "code",
   "execution_count": 65,
   "metadata": {},
   "outputs": [
    {
     "data": {
      "text/plain": [
       "array([[400,  50],\n",
       "       [249,  63]])"
      ]
     },
     "execution_count": 65,
     "metadata": {},
     "output_type": "execute_result"
    }
   ],
   "source": [
    "cnf_matrix_q4 = metrics.confusion_matrix(y_test_q3, y_pred_q4)\n",
    "cnf_matrix_q4"
   ]
  },
  {
   "cell_type": "code",
   "execution_count": 66,
   "metadata": {},
   "outputs": [
    {
     "data": {
      "text/plain": [
       "Text(0.5, 257.44, 'Predicted label')"
      ]
     },
     "execution_count": 66,
     "metadata": {},
     "output_type": "execute_result"
    },
    {
     "data": {
      "image/png": "[encoded data removed]",
      "text/plain": [
       "<Figure size 432x288 with 2 Axes>"
      ]
     },
     "metadata": {
      "needs_background": "light"
     },
     "output_type": "display_data"
    }
   ],
   "source": [
    "class_names=[0,1] # name  of classes\n",
    "fig, ax = plt.subplots()\n",
    "tick_marks = np.arange(len(class_names))\n",
    "plt.xticks(tick_marks, class_names)\n",
    "plt.yticks(tick_marks, class_names)\n",
    "# create heatmap\n",
    "sns.heatmap(pd.DataFrame(cnf_matrix_q4), annot=True, cmap=\"YlGnBu\" ,fmt='g')\n",
    "ax.xaxis.set_label_position(\"top\")\n",
    "plt.tight_layout()\n",
    "plt.title('Confusion matrix', y=1.1)\n",
    "plt.ylabel('Actual label')\n",
    "plt.xlabel('Predicted label')"
   ]
  },
  {
   "cell_type": "code",
   "execution_count": 127,
   "metadata": {
    "scrolled": true
   },
   "outputs": [
    {
     "data": {
      "text/plain": [
       "0    2174\n",
       "1    1634\n",
       "Name: Class, dtype: int64"
      ]
     },
     "execution_count": 127,
     "metadata": {},
     "output_type": "execute_result"
    }
   ],
   "source": [
    "df_data['Class'].value_counts()"
   ]
  },
  {
   "cell_type": "code",
   "execution_count": 129,
   "metadata": {},
   "outputs": [
    {
     "data": {
      "text/plain": [
       "<AxesSubplot:xlabel='Class', ylabel='count'>"
      ]
     },
     "execution_count": 129,
     "metadata": {},
     "output_type": "execute_result"
    },
    {
     "data": {
      "image/png": "[encoded data removed]",
      "text/plain": [
       "<Figure size 432x288 with 1 Axes>"
      ]
     },
     "metadata": {
      "needs_background": "light"
     },
     "output_type": "display_data"
    }
   ],
   "source": [
    "sns.countplot(x=df_data['Class'])"
   ]
  },
  {
   "cell_type": "markdown",
   "metadata": {},
   "source": [
    "The confusion matrix is the same as in q3, where the values have already been discussed. The raw data set is quite balanced, which can be seen in the graph above. In the output predicted by the model the data is approximatley as balanced as in the raw data set."
   ]
  },
  {
   "cell_type": "code",
   "execution_count": 67,
   "metadata": {
    "scrolled": true
   },
   "outputs": [
    {
     "name": "stdout",
     "output_type": "stream",
     "text": [
      "              precision    recall  f1-score   support\n",
      "\n",
      "           0       0.62      0.89      0.73       450\n",
      "           1       0.56      0.20      0.30       312\n",
      "\n",
      "    accuracy                           0.61       762\n",
      "   macro avg       0.59      0.55      0.51       762\n",
      "weighted avg       0.59      0.61      0.55       762\n",
      "\n"
     ]
    }
   ],
   "source": [
    "cr = classification_report(y_test_q3, y_pred_q4)\n",
    "print(cr) "
   ]
  },
  {
   "cell_type": "code",
   "execution_count": 68,
   "metadata": {
    "scrolled": true
   },
   "outputs": [
    {
     "name": "stdout",
     "output_type": "stream",
     "text": [
      "Accuracy: 0.6076115485564304\n",
      "Precision: 0.5575221238938053\n",
      "Recall: 0.20192307692307693\n"
     ]
    }
   ],
   "source": [
    "print(\"Accuracy:\",metrics.accuracy_score(y_test_q3, y_pred_q4))\n",
    "print(\"Precision:\",metrics.precision_score(y_test_q3, y_pred_q4))\n",
    "print(\"Recall:\",metrics.recall_score(y_test_q3, y_pred_q4))"
   ]
  },
  {
   "cell_type": "code",
   "execution_count": 69,
   "metadata": {},
   "outputs": [
    {
     "data": {
      "image/png": "[encoded data removed]",
      "text/plain": [
       "<Figure size 432x288 with 1 Axes>"
      ]
     },
     "metadata": {
      "needs_background": "light"
     },
     "output_type": "display_data"
    }
   ],
   "source": [
    "logit_roc_auc = roc_auc_score(y_test, logit_model_q4.predict(x_test_q3))\n",
    "fpr, tpr, thresholds = roc_curve(y_test, logit_model_q4.predict_proba(x_test_q3)[:,1])\n",
    "plt.figure()\n",
    "plt.plot(fpr, tpr, label='Logistic Regression (area = %0.2f)' % logit_roc_auc)\n",
    "plt.plot([0, 1], [0, 1],'r--')\n",
    "plt.xlim([0.0, 1.0])\n",
    "plt.ylim([0.0, 1.05])\n",
    "plt.xlabel('False Positive Rate')\n",
    "plt.ylabel('True Positive Rate')\n",
    "plt.title('Receiver operating characteristic')\n",
    "plt.legend(loc=\"lower right\")\n",
    "plt.show()"
   ]
  },
  {
   "cell_type": "markdown",
   "metadata": {},
   "source": [
    "- The final conclusion is that we are trying to predict investment opportunities with the financial income statement, which economically does not make a lot of sense. You would choose more risk based features for predicting investment opportunities. However, based on a machine learning perspective there might be correlations that are usefull to predict it. The features choosen, which are the ones with the highest correlation, are very low. The highest correlated features, which were added to the model, are economically not the best indicators and have low accuracy. The model is improved by additional features but it is also not higher than just 0.6076. "
   ]
  },
  {
   "cell_type": "markdown",
   "metadata": {},
   "source": [
    "---"
   ]
  }
 ],
 "metadata": {
  "hide_input": false,
  "kernelspec": {
   "display_name": "Python 3",
   "language": "python",
   "name": "python3"
  },
  "language_info": {
   "codemirror_mode": {
    "name": "ipython",
    "version": 3
   },
   "file_extension": ".py",
   "mimetype": "text/x-python",
   "name": "python",
   "nbconvert_exporter": "python",
   "pygments_lexer": "ipython3",
   "version": "3.8.8"
  },
  "latex_envs": {
   "LaTeX_envs_menu_present": true,
   "autoclose": false,
   "autocomplete": true,
   "bibliofile": "biblio.bib",
   "cite_by": "apalike",
   "current_citInitial": 1,
   "eqLabelWithNumbers": true,
   "eqNumInitial": 1,
   "hotkeys": {
    "equation": "Ctrl-E",
    "itemize": "Ctrl-I"
   },
   "labels_anchors": false,
   "latex_user_defs": false,
   "report_style_numbering": false,
   "user_envs_cfg": false
  },
  "toc": {
   "base_numbering": 1,
   "nav_menu": {},
   "number_sections": false,
   "sideBar": true,
   "skip_h1_title": false,
   "title_cell": "Table of Contents",
   "title_sidebar": "Contents",
   "toc_cell": false,
   "toc_position": {},
   "toc_section_display": true,
   "toc_window_display": true
  },
  "varInspector": {
   "cols": {
    "lenName": 16,
    "lenType": 16,
    "lenVar": 40
   },
   "kernels_config": {
    "python": {
     "delete_cmd_postfix": "",
     "delete_cmd_prefix": "del ",
     "library": "var_list.py",
     "varRefreshCmd": "print(var_dic_list())"
    },
    "r": {
     "delete_cmd_postfix": ") ",
     "delete_cmd_prefix": "rm(",
     "library": "var_list.r",
     "varRefreshCmd": "cat(var_dic_list()) "
    }
   },
   "types_to_exclude": [
    "module",
    "function",
    "builtin_function_or_method",
    "instance",
    "_Feature"
   ],
   "window_display": false
  }
 },
 "nbformat": 4,
 "nbformat_minor": 2
}
