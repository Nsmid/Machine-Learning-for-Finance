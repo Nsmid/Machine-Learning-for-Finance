{
 "cells": [
  {
   "cell_type": "markdown",
   "metadata": {},
   "source": [
    "# Assignment 2 -- ML4F 2021\n",
    "\n",
    "## Instructions\n",
    "\n",
    "* Each group submits _only one_ notebook via canvas on the assignment page. \n",
    "* The notebook should be named `assignment2_groupXX.ipynb` where `XX` is your group number,  \n",
    "e.g. for group 3 this will be `assignment2_group03.ipynb`.\n",
    "* The notebook should run without raising any errors. \n",
    "* We recommend keeping the folder structure\n",
    "```\n",
    "assignment/\n",
    "    data/\n",
    "    lib/\n",
    "    assignment2_groupXX.ipynb\n",
    "```\n",
    "* We strongly recommend git, as you are encouraged to collaborate and split up the work and maybe even start independently. To see how to set up your own repo for your group, see `L2-git-slides.pdf`.\n",
    "* Do not spend time on optimizing the speed of your code. \n",
    "* We strongly encourage you to experiment, try different approaches and combinations and get to know the problem from alternative angles. But the final notebook should only contain the necessary results for grading."
   ]
  },
  {
   "cell_type": "code",
   "execution_count": 1,
   "metadata": {},
   "outputs": [],
   "source": [
    "import pandas as pd\n",
    "import numpy as np\n",
    "import matplotlib.pyplot as plt\n",
    "import os"
   ]
  },
  {
   "cell_type": "markdown",
   "metadata": {},
   "source": [
    "## Introduction"
   ]
  },
  {
   "cell_type": "markdown",
   "metadata": {},
   "source": [
    "The Paycheck Protection Program (PPP) gives support to companies who are negatively impacted by Covid-19 to pay their employees. Many businesses have been affected and the money was limited. This means the PPP cannot give all the companies money. The dataset provided contains the loans to different companies. It also contains the probability of default (`ProbabilityDefault`) as estimated by the loan officer."
   ]
  },
  {
   "cell_type": "markdown",
   "metadata": {},
   "source": [
    "Let's load and have a look at the data."
   ]
  },
  {
   "cell_type": "code",
   "execution_count": 2,
   "metadata": {},
   "outputs": [
    {
     "data": {
      "text/html": [
       "<div>\n",
       "<style scoped>\n",
       "    .dataframe tbody tr th:only-of-type {\n",
       "        vertical-align: middle;\n",
       "    }\n",
       "\n",
       "    .dataframe tbody tr th {\n",
       "        vertical-align: top;\n",
       "    }\n",
       "\n",
       "    .dataframe thead th {\n",
       "        text-align: right;\n",
       "    }\n",
       "</style>\n",
       "<table border=\"1\" class=\"dataframe\">\n",
       "  <thead>\n",
       "    <tr style=\"text-align: right;\">\n",
       "      <th></th>\n",
       "      <th>LoanAmount</th>\n",
       "      <th>City</th>\n",
       "      <th>State</th>\n",
       "      <th>Zip</th>\n",
       "      <th>NAICSCode</th>\n",
       "      <th>BusinessType</th>\n",
       "      <th>RaceEthnicity</th>\n",
       "      <th>Gender</th>\n",
       "      <th>Veteran</th>\n",
       "      <th>NonProfit</th>\n",
       "      <th>JobsRetained</th>\n",
       "      <th>DateApproved</th>\n",
       "      <th>Lender</th>\n",
       "      <th>CD</th>\n",
       "      <th>AgeLoan</th>\n",
       "      <th>ProbabilityDefault</th>\n",
       "    </tr>\n",
       "  </thead>\n",
       "  <tbody>\n",
       "    <tr>\n",
       "      <th>0</th>\n",
       "      <td>20800</td>\n",
       "      <td>EAGLE</td>\n",
       "      <td>ID</td>\n",
       "      <td>83616</td>\n",
       "      <td>531210.0</td>\n",
       "      <td>Limited  Liability Company(LLC)</td>\n",
       "      <td>Unanswered</td>\n",
       "      <td>Unanswered</td>\n",
       "      <td>Unanswered</td>\n",
       "      <td>NaN</td>\n",
       "      <td>0.0</td>\n",
       "      <td>2020-07-04 00:00:00</td>\n",
       "      <td>Washington Trust Bank</td>\n",
       "      <td>ID - 01</td>\n",
       "      <td>117</td>\n",
       "      <td>1.250967</td>\n",
       "    </tr>\n",
       "    <tr>\n",
       "      <th>1</th>\n",
       "      <td>80000</td>\n",
       "      <td>HAYDEN</td>\n",
       "      <td>ID</td>\n",
       "      <td>83835</td>\n",
       "      <td>722511.0</td>\n",
       "      <td>Corporation</td>\n",
       "      <td>Asian</td>\n",
       "      <td>Female Owned</td>\n",
       "      <td>Unanswered</td>\n",
       "      <td>NaN</td>\n",
       "      <td>24.0</td>\n",
       "      <td>04/15/2020</td>\n",
       "      <td>Glacier Bank</td>\n",
       "      <td>ID - 01</td>\n",
       "      <td>230</td>\n",
       "      <td>6.033691</td>\n",
       "    </tr>\n",
       "    <tr>\n",
       "      <th>2</th>\n",
       "      <td>75500</td>\n",
       "      <td>IDAHO FALLS</td>\n",
       "      <td>ID</td>\n",
       "      <td>83401</td>\n",
       "      <td>811121.0</td>\n",
       "      <td>Subchapter S Corporation</td>\n",
       "      <td>White</td>\n",
       "      <td>Male Owned</td>\n",
       "      <td>Non-Veteran</td>\n",
       "      <td>NaN</td>\n",
       "      <td>7.0</td>\n",
       "      <td>2020-10-04 00:00:00</td>\n",
       "      <td>Bank of Idaho</td>\n",
       "      <td>ID - 02</td>\n",
       "      <td>236</td>\n",
       "      <td>2.334621</td>\n",
       "    </tr>\n",
       "    <tr>\n",
       "      <th>3</th>\n",
       "      <td>133500</td>\n",
       "      <td>POST FALLS</td>\n",
       "      <td>ID</td>\n",
       "      <td>83854</td>\n",
       "      <td>722211.0</td>\n",
       "      <td>Limited  Liability Company(LLC)</td>\n",
       "      <td>White</td>\n",
       "      <td>Unanswered</td>\n",
       "      <td>Unanswered</td>\n",
       "      <td>NaN</td>\n",
       "      <td>26.0</td>\n",
       "      <td>04/13/2020</td>\n",
       "      <td>First Interstate Bank</td>\n",
       "      <td>ID - 01</td>\n",
       "      <td>240</td>\n",
       "      <td>9.567953</td>\n",
       "    </tr>\n",
       "    <tr>\n",
       "      <th>4</th>\n",
       "      <td>8187</td>\n",
       "      <td>RIGBY</td>\n",
       "      <td>ID</td>\n",
       "      <td>83442</td>\n",
       "      <td>327991.0</td>\n",
       "      <td>Sole Proprietorship</td>\n",
       "      <td>White</td>\n",
       "      <td>Male Owned</td>\n",
       "      <td>Non-Veteran</td>\n",
       "      <td>NaN</td>\n",
       "      <td>1.0</td>\n",
       "      <td>2020-05-05 00:00:00</td>\n",
       "      <td>Beehive FCU</td>\n",
       "      <td>ID - 02</td>\n",
       "      <td>51</td>\n",
       "      <td>1.462785</td>\n",
       "    </tr>\n",
       "    <tr>\n",
       "      <th>5</th>\n",
       "      <td>16700</td>\n",
       "      <td>MERIDIAN</td>\n",
       "      <td>ID</td>\n",
       "      <td>83642</td>\n",
       "      <td>621330.0</td>\n",
       "      <td>Limited  Liability Company(LLC)</td>\n",
       "      <td>Unanswered</td>\n",
       "      <td>Female Owned</td>\n",
       "      <td>Non-Veteran</td>\n",
       "      <td>NaN</td>\n",
       "      <td>0.0</td>\n",
       "      <td>04/28/2020</td>\n",
       "      <td>Idaho Central CU</td>\n",
       "      <td>ID - 01</td>\n",
       "      <td>121</td>\n",
       "      <td>8.855862</td>\n",
       "    </tr>\n",
       "    <tr>\n",
       "      <th>6</th>\n",
       "      <td>26900</td>\n",
       "      <td>MOSCOW</td>\n",
       "      <td>ID</td>\n",
       "      <td>83843</td>\n",
       "      <td>621310.0</td>\n",
       "      <td>Limited Liability Partnership</td>\n",
       "      <td>Unanswered</td>\n",
       "      <td>Unanswered</td>\n",
       "      <td>Unanswered</td>\n",
       "      <td>NaN</td>\n",
       "      <td>2.0</td>\n",
       "      <td>2020-08-06 00:00:00</td>\n",
       "      <td>Zions Bank, A Division of</td>\n",
       "      <td>ID - 01</td>\n",
       "      <td>144</td>\n",
       "      <td>3.322314</td>\n",
       "    </tr>\n",
       "    <tr>\n",
       "      <th>7</th>\n",
       "      <td>40600</td>\n",
       "      <td>IDAHO FALLS</td>\n",
       "      <td>ID</td>\n",
       "      <td>83402</td>\n",
       "      <td>722513.0</td>\n",
       "      <td>Limited  Liability Company(LLC)</td>\n",
       "      <td>Unanswered</td>\n",
       "      <td>Unanswered</td>\n",
       "      <td>Unanswered</td>\n",
       "      <td>NaN</td>\n",
       "      <td>0.0</td>\n",
       "      <td>04/28/2020</td>\n",
       "      <td>Idaho Central CU</td>\n",
       "      <td>ID - 02</td>\n",
       "      <td>182</td>\n",
       "      <td>4.111426</td>\n",
       "    </tr>\n",
       "    <tr>\n",
       "      <th>8</th>\n",
       "      <td>58767</td>\n",
       "      <td>LEWISTON</td>\n",
       "      <td>ID</td>\n",
       "      <td>83501</td>\n",
       "      <td>811111.0</td>\n",
       "      <td>Limited  Liability Company(LLC)</td>\n",
       "      <td>Unanswered</td>\n",
       "      <td>Unanswered</td>\n",
       "      <td>Unanswered</td>\n",
       "      <td>NaN</td>\n",
       "      <td>4.0</td>\n",
       "      <td>2020-03-05 00:00:00</td>\n",
       "      <td>U.S. Bank, National Association</td>\n",
       "      <td>ID - 01</td>\n",
       "      <td>211</td>\n",
       "      <td>5.022466</td>\n",
       "    </tr>\n",
       "    <tr>\n",
       "      <th>9</th>\n",
       "      <td>46000</td>\n",
       "      <td>BOISE</td>\n",
       "      <td>ID</td>\n",
       "      <td>83706</td>\n",
       "      <td>524210.0</td>\n",
       "      <td>Subchapter S Corporation</td>\n",
       "      <td>Unanswered</td>\n",
       "      <td>Unanswered</td>\n",
       "      <td>Unanswered</td>\n",
       "      <td>NaN</td>\n",
       "      <td>4.0</td>\n",
       "      <td>2020-12-04 00:00:00</td>\n",
       "      <td>KeyBank National Association</td>\n",
       "      <td>ID - 02</td>\n",
       "      <td>199</td>\n",
       "      <td>4.404192</td>\n",
       "    </tr>\n",
       "  </tbody>\n",
       "</table>\n",
       "</div>"
      ],
      "text/plain": [
       "  LoanAmount         City State    Zip  NAICSCode  \\\n",
       "0      20800        EAGLE    ID  83616   531210.0   \n",
       "1      80000       HAYDEN    ID  83835   722511.0   \n",
       "2      75500  IDAHO FALLS    ID  83401   811121.0   \n",
       "3     133500   POST FALLS    ID  83854   722211.0   \n",
       "4       8187        RIGBY    ID  83442   327991.0   \n",
       "5      16700     MERIDIAN    ID  83642   621330.0   \n",
       "6      26900       MOSCOW    ID  83843   621310.0   \n",
       "7      40600  IDAHO FALLS    ID  83402   722513.0   \n",
       "8      58767     LEWISTON    ID  83501   811111.0   \n",
       "9      46000        BOISE    ID  83706   524210.0   \n",
       "\n",
       "                      BusinessType RaceEthnicity        Gender      Veteran  \\\n",
       "0  Limited  Liability Company(LLC)    Unanswered    Unanswered   Unanswered   \n",
       "1                      Corporation         Asian  Female Owned   Unanswered   \n",
       "2         Subchapter S Corporation         White    Male Owned  Non-Veteran   \n",
       "3  Limited  Liability Company(LLC)         White    Unanswered   Unanswered   \n",
       "4              Sole Proprietorship         White    Male Owned  Non-Veteran   \n",
       "5  Limited  Liability Company(LLC)    Unanswered  Female Owned  Non-Veteran   \n",
       "6    Limited Liability Partnership    Unanswered    Unanswered   Unanswered   \n",
       "7  Limited  Liability Company(LLC)    Unanswered    Unanswered   Unanswered   \n",
       "8  Limited  Liability Company(LLC)    Unanswered    Unanswered   Unanswered   \n",
       "9         Subchapter S Corporation    Unanswered    Unanswered   Unanswered   \n",
       "\n",
       "  NonProfit  JobsRetained         DateApproved  \\\n",
       "0       NaN           0.0  2020-07-04 00:00:00   \n",
       "1       NaN          24.0           04/15/2020   \n",
       "2       NaN           7.0  2020-10-04 00:00:00   \n",
       "3       NaN          26.0           04/13/2020   \n",
       "4       NaN           1.0  2020-05-05 00:00:00   \n",
       "5       NaN           0.0           04/28/2020   \n",
       "6       NaN           2.0  2020-08-06 00:00:00   \n",
       "7       NaN           0.0           04/28/2020   \n",
       "8       NaN           4.0  2020-03-05 00:00:00   \n",
       "9       NaN           4.0  2020-12-04 00:00:00   \n",
       "\n",
       "                            Lender       CD  AgeLoan  ProbabilityDefault  \n",
       "0            Washington Trust Bank  ID - 01      117            1.250967  \n",
       "1                     Glacier Bank  ID - 01      230            6.033691  \n",
       "2                    Bank of Idaho  ID - 02      236            2.334621  \n",
       "3            First Interstate Bank  ID - 01      240            9.567953  \n",
       "4                      Beehive FCU  ID - 02       51            1.462785  \n",
       "5                 Idaho Central CU  ID - 01      121            8.855862  \n",
       "6        Zions Bank, A Division of  ID - 01      144            3.322314  \n",
       "7                 Idaho Central CU  ID - 02      182            4.111426  \n",
       "8  U.S. Bank, National Association  ID - 01      211            5.022466  \n",
       "9     KeyBank National Association  ID - 02      199            4.404192  "
      ]
     },
     "execution_count": 2,
     "metadata": {},
     "output_type": "execute_result"
    }
   ],
   "source": [
    "path = os.path.join('data','loans.xlsx')\n",
    "\n",
    "df_data = pd.read_excel(path)\n",
    "df_data.head(10)"
   ]
  },
  {
   "cell_type": "markdown",
   "metadata": {},
   "source": [
    "# Question 1\n",
    "(12 points)"
   ]
  },
  {
   "cell_type": "markdown",
   "metadata": {},
   "source": [
    "Use the methods discussed so far to preprocess the data. Make some descriptive statistics and histograms etc to find out more about the distributions of the data. Are there NaNs, outliers etc? Then choose what preprocessing to apply and clearly explain your choices."
   ]
  },
  {
   "cell_type": "code",
   "execution_count": null,
   "metadata": {},
   "outputs": [],
   "source": [
    "## Your answer"
   ]
  },
  {
   "cell_type": "markdown",
   "metadata": {},
   "source": [
    "# Question 2\n",
    "(22 points)"
   ]
  },
  {
   "cell_type": "markdown",
   "metadata": {},
   "source": [
    "Explain what a k-means model is."
   ]
  },
  {
   "cell_type": "code",
   "execution_count": null,
   "metadata": {},
   "outputs": [],
   "source": [
    "## Your answer"
   ]
  },
  {
   "cell_type": "markdown",
   "metadata": {},
   "source": [
    "Estimate a k-means model with 3 clusters for the variables `LoanAmount`, `Zip`, `ProbabilityDefault` and `AgeLoan`."
   ]
  },
  {
   "cell_type": "code",
   "execution_count": null,
   "metadata": {},
   "outputs": [],
   "source": [
    "## Your answer"
   ]
  },
  {
   "cell_type": "markdown",
   "metadata": {},
   "source": [
    "Determine with the elbow method with inertia what the right number of clusters is. Please plot the inertia and explain your choice of clusters."
   ]
  },
  {
   "cell_type": "code",
   "execution_count": null,
   "metadata": {},
   "outputs": [],
   "source": [
    "## Your answer"
   ]
  },
  {
   "cell_type": "markdown",
   "metadata": {},
   "source": [
    "Do the same but this time using the silhouette score. Compare both. Would you now reconsider your choice of the previous question?"
   ]
  },
  {
   "cell_type": "code",
   "execution_count": null,
   "metadata": {},
   "outputs": [],
   "source": [
    "## Your answer"
   ]
  },
  {
   "cell_type": "markdown",
   "metadata": {},
   "source": [
    "# Question 3\n",
    "\n",
    "(22 points)\n",
    "\n",
    "Mention one advantage and one disadvantage of using Principal Component Analysis (PCA)."
   ]
  },
  {
   "cell_type": "code",
   "execution_count": null,
   "metadata": {},
   "outputs": [],
   "source": [
    "## Your answer"
   ]
  },
  {
   "cell_type": "markdown",
   "metadata": {},
   "source": [
    "Reduce the dataset to two dimensions with PCA and make a clear plot. Make sure to label all the important information."
   ]
  },
  {
   "cell_type": "code",
   "execution_count": null,
   "metadata": {},
   "outputs": [],
   "source": [
    "## Your answer"
   ]
  },
  {
   "cell_type": "markdown",
   "metadata": {},
   "source": [
    "This time reduce the dataset to two dimensions with t-SNE and make a clear plot."
   ]
  },
  {
   "cell_type": "code",
   "execution_count": null,
   "metadata": {},
   "outputs": [],
   "source": [
    "## Your answer"
   ]
  },
  {
   "cell_type": "markdown",
   "metadata": {},
   "source": [
    "Explain whether PCA or t-SNE is better to use with this particular data set."
   ]
  },
  {
   "cell_type": "code",
   "execution_count": null,
   "metadata": {},
   "outputs": [],
   "source": [
    "# Your answer"
   ]
  },
  {
   "cell_type": "markdown",
   "metadata": {},
   "source": [
    "# Question 4\n",
    "\n",
    "(22 points)\n",
    "\n",
    "Add the two columns you made with PCA to the dataset. Then pick a Decision Tree model and train a good model to predict the Probability of Default (`ProbabilityDefault`). It is not necessary to tune the hyperparameters (so the default settings are fine). "
   ]
  },
  {
   "cell_type": "code",
   "execution_count": 4,
   "metadata": {},
   "outputs": [],
   "source": [
    "## Your answer"
   ]
  },
  {
   "cell_type": "markdown",
   "metadata": {},
   "source": [
    "Explain how well your model performs. Do you think the predictions are any good? "
   ]
  },
  {
   "cell_type": "code",
   "execution_count": 5,
   "metadata": {},
   "outputs": [],
   "source": [
    "## Your answer"
   ]
  },
  {
   "cell_type": "markdown",
   "metadata": {},
   "source": [
    "# Question 5\n",
    "\n",
    "(22 points)\n",
    "\n",
    "This question turns on how to tune hyperparameters. Please compute what you consider the best choice for \"splitter\", \"max_depth\", and \"min_samples_leaf\" (jointly)."
   ]
  },
  {
   "cell_type": "code",
   "execution_count": 6,
   "metadata": {},
   "outputs": [],
   "source": [
    "## Your answer"
   ]
  },
  {
   "cell_type": "markdown",
   "metadata": {},
   "source": [
    "Does your hyperparameter tuning does lead to overfitting? Provide arguments."
   ]
  },
  {
   "cell_type": "code",
   "execution_count": 7,
   "metadata": {},
   "outputs": [],
   "source": [
    "## Your answer"
   ]
  },
  {
   "cell_type": "markdown",
   "metadata": {},
   "source": [
    "Explain whether you consider the hyperparameter tuning useful (given amongst others the compute time, precision, other considerations, etc.)."
   ]
  },
  {
   "cell_type": "code",
   "execution_count": 8,
   "metadata": {},
   "outputs": [],
   "source": [
    "## Your answer"
   ]
  },
  {
   "cell_type": "markdown",
   "metadata": {},
   "source": [
    "---"
   ]
  }
 ],
 "metadata": {
  "hide_input": false,
  "kernelspec": {
   "display_name": "Python 3",
   "language": "python",
   "name": "python3"
  },
  "language_info": {
   "codemirror_mode": {
    "name": "ipython",
    "version": 3
   },
   "file_extension": ".py",
   "mimetype": "text/x-python",
   "name": "python",
   "nbconvert_exporter": "python",
   "pygments_lexer": "ipython3",
   "version": "3.7.3"
  },
  "latex_envs": {
   "LaTeX_envs_menu_present": true,
   "autoclose": false,
   "autocomplete": true,
   "bibliofile": "biblio.bib",
   "cite_by": "apalike",
   "current_citInitial": 1,
   "eqLabelWithNumbers": true,
   "eqNumInitial": 1,
   "hotkeys": {
    "equation": "Ctrl-E",
    "itemize": "Ctrl-I"
   },
   "labels_anchors": false,
   "latex_user_defs": false,
   "report_style_numbering": false,
   "user_envs_cfg": false
  },
  "toc": {
   "base_numbering": 1,
   "nav_menu": {},
   "number_sections": false,
   "sideBar": true,
   "skip_h1_title": false,
   "title_cell": "Table of Contents",
   "title_sidebar": "Contents",
   "toc_cell": false,
   "toc_position": {},
   "toc_section_display": true,
   "toc_window_display": true
  },
  "varInspector": {
   "cols": {
    "lenName": 16,
    "lenType": 16,
    "lenVar": 40
   },
   "kernels_config": {
    "python": {
     "delete_cmd_postfix": "",
     "delete_cmd_prefix": "del ",
     "library": "var_list.py",
     "varRefreshCmd": "print(var_dic_list())"
    },
    "r": {
     "delete_cmd_postfix": ") ",
     "delete_cmd_prefix": "rm(",
     "library": "var_list.r",
     "varRefreshCmd": "cat(var_dic_list()) "
    }
   },
   "types_to_exclude": [
    "module",
    "function",
    "builtin_function_or_method",
    "instance",
    "_Feature"
   ],
   "window_display": false
  }
 },
 "nbformat": 4,
 "nbformat_minor": 2
}
